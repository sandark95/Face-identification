{
 "cells": [
  {
   "cell_type": "markdown",
   "metadata": {},
   "source": [
    "## Data"
   ]
  },
  {
   "cell_type": "code",
   "execution_count": 19,
   "metadata": {},
   "outputs": [],
   "source": [
    "from zipfile import ZipFile\n",
    "import cv2\n",
    "from PIL import Image\n",
    "import numpy as np\n",
    "from matplotlib import pyplot as plt\n",
    "import os\n",
    "import re\n",
    "def read_images(filename,preprocess = True):\n",
    "    \n",
    "    filename = filename\n",
    "    \n",
    "    imgs = []\n",
    "    \n",
    "    img_names = []\n",
    "    \n",
    "    clahe = cv2.createCLAHE(clipLimit=2.0, tileGridSize=(8,8))\n",
    "    \n",
    "    with ZipFile(filename) as archive:\n",
    "        for count, entry in enumerate(archive.infolist()):\n",
    "            with archive.open(entry) as file:\n",
    "                if(file.name.endswith(\"jpg\") or file.name.endswith(\"png\")):\n",
    "                    \n",
    "                    img = np.array(Image.open(file).convert('L'))\n",
    "\n",
    "                    if(preprocess):\n",
    "               \n",
    "                        img = clahe.apply(img)\n",
    "\n",
    "                    imgs.append(img)\n",
    "                    \n",
    "                    img_names.append(file.name)\n",
    "\n",
    "    return imgs,img_names"
   ]
  },
  {
   "cell_type": "code",
   "execution_count": 86,
   "metadata": {},
   "outputs": [],
   "source": [
    "template_imgs = []\n",
    "\n",
    "template_img_names = []\n",
    "\n",
    "test_imgs = []\n",
    "\n",
    "test_img_names = []\n",
    "\n",
    "bright_imgs = []\n",
    "\n",
    "bright_img_names = []\n",
    "\n",
    "contrast_imgs = []\n",
    "\n",
    "contrast_img_names = []\n",
    "\n",
    "rotation_imgs = []\n",
    "\n",
    "rotation_img_names = []\n",
    "\n",
    "for item in os.listdir():\n",
    "    \n",
    "    if(item.endswith(\"zip\")):\n",
    "        \n",
    "        if(item == \"BDD.zip\"):\n",
    "            \n",
    "            tmp,tmp1 = read_images(item)\n",
    "\n",
    "            template_imgs += tmp\n",
    "\n",
    "            template_img_names += tmp1\n",
    "\n",
    "        elif (item==\"Test.zip\") :\n",
    "\n",
    "            tmp,tmp1 = read_images(item)\n",
    "\n",
    "            test_imgs += tmp\n",
    "\n",
    "            test_img_names += tmp1\n",
    "        elif (item==\"Contrast.zip\") :\n",
    "\n",
    "            tmp,tmp1 = read_images(item)\n",
    "\n",
    "            contrast_imgs += tmp\n",
    "\n",
    "            contrast_img_names += tmp1\n",
    "        elif (item==\"Rotation.zip\") :\n",
    "\n",
    "            tmp,tmp1 = read_images(item)\n",
    "\n",
    "            rotation_imgs += tmp\n",
    "\n",
    "            rotation_img_names += tmp1\n",
    "        elif (item==\"Brightness.zip\") :\n",
    "\n",
    "            tmp,tmp1 = read_images(item)\n",
    "\n",
    "            bright_imgs += tmp\n",
    "\n",
    "            bright_img_names += tmp1\n",
    "\n",
    "contrast_imgs=np.array(contrast_imgs) \n",
    "bright_imgs=np.array(bright_imgs) \n",
    "rotation_imgs=np.array(rotation_imgs) \n",
    "test_imgs = np.array(test_imgs)\n",
    "template_imgs = np.array(template_imgs)"
   ]
  },
  {
   "cell_type": "code",
   "execution_count": 87,
   "metadata": {},
   "outputs": [
    {
     "data": {
      "text/plain": [
       "((24, 250, 250),\n",
       " (48, 250, 250),\n",
       " (24, 250, 250),\n",
       " (24, 250, 250),\n",
       " (24, 250, 250))"
      ]
     },
     "execution_count": 87,
     "metadata": {},
     "output_type": "execute_result"
    }
   ],
   "source": [
    "test_imgs.shape,template_imgs.shape,contrast_imgs.shape,rotation_imgs.shape,bright_imgs.shape"
   ]
  },
  {
   "cell_type": "markdown",
   "metadata": {},
   "source": [
    "<div class=\"alert alert-success\">\n",
    "\n",
    "<h2>  Evaluation</h2>\n",
    "</div>"
   ]
  },
  {
   "cell_type": "markdown",
   "metadata": {},
   "source": [
    "## Siamese network"
   ]
  },
  {
   "cell_type": "code",
   "execution_count": 4,
   "metadata": {},
   "outputs": [
    {
     "name": "stderr",
     "output_type": "stream",
     "text": [
      "Using TensorFlow backend.\n"
     ]
    }
   ],
   "source": [
    "from keras.models import Model, Sequential\n",
    "from keras.layers import Input, Convolution2D, ZeroPadding2D, MaxPooling2D, Flatten, Dense, Dropout, Activation\n",
    "from PIL import Image\n",
    "import numpy as np\n",
    "from keras.preprocessing.image import load_img, save_img, img_to_array\n",
    "from keras.applications.imagenet_utils import preprocess_input\n",
    "from keras.preprocessing import image\n",
    "import matplotlib.pyplot as plt\n",
    "import os\n",
    "import glob"
   ]
  },
  {
   "cell_type": "code",
   "execution_count": 5,
   "metadata": {},
   "outputs": [],
   "source": [
    "model = Sequential()\n",
    "model.add(ZeroPadding2D((1,1),input_shape=(224,224, 3)))\n",
    "model.add(Convolution2D(64, (3, 3), activation='relu'))\n",
    "model.add(ZeroPadding2D((1,1)))\n",
    "model.add(Convolution2D(64, (3, 3), activation='relu'))\n",
    "model.add(MaxPooling2D((2,2), strides=(2,2)))\n",
    " \n",
    "model.add(ZeroPadding2D((1,1)))\n",
    "model.add(Convolution2D(128, (3, 3), activation='relu'))\n",
    "model.add(ZeroPadding2D((1,1)))\n",
    "model.add(Convolution2D(128, (3, 3), activation='relu'))\n",
    "model.add(MaxPooling2D((2,2), strides=(2,2)))\n",
    " \n",
    "model.add(ZeroPadding2D((1,1)))\n",
    "model.add(Convolution2D(256, (3, 3), activation='relu'))\n",
    "model.add(ZeroPadding2D((1,1)))\n",
    "model.add(Convolution2D(256, (3, 3), activation='relu'))\n",
    "model.add(ZeroPadding2D((1,1)))\n",
    "model.add(Convolution2D(256, (3, 3), activation='relu'))\n",
    "model.add(MaxPooling2D((2,2), strides=(2,2)))\n",
    " \n",
    "model.add(ZeroPadding2D((1,1)))\n",
    "model.add(Convolution2D(512, (3, 3), activation='relu'))\n",
    "model.add(ZeroPadding2D((1,1)))\n",
    "model.add(Convolution2D(512, (3, 3), activation='relu'))\n",
    "model.add(ZeroPadding2D((1,1)))\n",
    "model.add(Convolution2D(512, (3, 3), activation='relu'))\n",
    "model.add(MaxPooling2D((2,2), strides=(2,2)))\n",
    " \n",
    "model.add(ZeroPadding2D((1,1)))\n",
    "model.add(Convolution2D(512, (3, 3), activation='relu'))\n",
    "model.add(ZeroPadding2D((1,1)))\n",
    "model.add(Convolution2D(512, (3, 3), activation='relu'))\n",
    "model.add(ZeroPadding2D((1,1)))\n",
    "model.add(Convolution2D(512, (3, 3), activation='relu'))\n",
    "model.add(MaxPooling2D((2,2), strides=(2,2)))\n",
    " \n",
    "model.add(Convolution2D(4096, (7, 7), activation='relu'))\n",
    "model.add(Dropout(0.5))\n",
    "model.add(Convolution2D(4096, (1, 1), activation='relu'))\n",
    "model.add(Dropout(0.5))\n",
    "model.add(Convolution2D(2622, (1, 1)))\n",
    "model.add(Flatten())\n",
    "model.add(Activation('softmax'))"
   ]
  },
  {
   "cell_type": "code",
   "execution_count": 7,
   "metadata": {},
   "outputs": [],
   "source": [
    "from keras.models import model_from_json\n",
    "model.load_weights('Image2/vgg_face_weights.h5')"
   ]
  },
  {
   "cell_type": "code",
   "execution_count": 8,
   "metadata": {},
   "outputs": [],
   "source": [
    "def preprocess_image(image_path):\n",
    "    img = load_img(image_path, target_size=(224, 224))\n",
    "    img = img_to_array(img)\n",
    "    img = np.expand_dims(img, axis=0)\n",
    "    img = preprocess_input(img)\n",
    "    return img"
   ]
  },
  {
   "cell_type": "code",
   "execution_count": 9,
   "metadata": {},
   "outputs": [],
   "source": [
    "def findCosineSimilarity(source_representation, test_representation):\n",
    "    a = np.matmul(np.transpose(source_representation), test_representation)\n",
    "    b = np.sum(np.multiply(source_representation, source_representation))\n",
    "    c = np.sum(np.multiply(test_representation, test_representation))\n",
    "    return 1 - (a / (np.sqrt(b) * np.sqrt(c)))\n",
    "\n",
    "def findEuclideanDistance(source_representation, test_representation):\n",
    "    euclidean_distance = source_representation - test_representation\n",
    "    euclidean_distance = np.sum(np.multiply(euclidean_distance, euclidean_distance))\n",
    "    euclidean_distance = np.sqrt(euclidean_distance)\n",
    "    return euclidean_distance"
   ]
  },
  {
   "cell_type": "code",
   "execution_count": 10,
   "metadata": {},
   "outputs": [],
   "source": [
    "vgg_face_descriptor = Model(inputs=model.layers[0].input, outputs=model.layers[-2].output)"
   ]
  },
  {
   "cell_type": "code",
   "execution_count": 11,
   "metadata": {},
   "outputs": [],
   "source": [
    "epsilon = 0.25\n",
    "epsilon1=50\n",
    "\n",
    "def verifyFace(img1, img2):\n",
    "    img1_representation = vgg_face_descriptor.predict(preprocess_image(img1))[0,:]\n",
    "    img2_representation = vgg_face_descriptor.predict(preprocess_image(img2))[0,:]\n",
    "    \n",
    "    cosine_similarity = findCosineSimilarity(img1_representation, img2_representation)\n",
    "    euclidean_distance = findEuclideanDistance(img1_representation, img2_representation)\n",
    "    \n",
    "    print(\"Cosine similarity: \",cosine_similarity)\n",
    "    print(\"Euclidean distance: \",euclidean_distance)\n",
    "    \n",
    "    if(cosine_similarity < epsilon) and (euclidean_distance < epsilon1):\n",
    "        print(\"verified... they are same person\")\n",
    "    else:\n",
    "        print(\"unverified! they are not same person!\")\n",
    "    \n",
    "    f = plt.figure()\n",
    "    f.add_subplot(1,2, 1)\n",
    "    plt.imshow(image.load_img(img1))\n",
    "    plt.xticks([]); plt.yticks([])\n",
    "    f.add_subplot(1,2, 2)\n",
    "    plt.imshow(image.load_img(img2))\n",
    "    plt.xticks([]); plt.yticks([])\n",
    "    plt.show(block=True)\n",
    "    print(\"-----------------------------------------\")"
   ]
  },
  {
   "cell_type": "markdown",
   "metadata": {},
   "source": [
    "## SIFT:Minimum Pair Distance (MDP)"
   ]
  },
  {
   "cell_type": "code",
   "execution_count": 91,
   "metadata": {},
   "outputs": [],
   "source": [
    "def MDP(img1, img2):\n",
    "\n",
    "    sift = cv2.xfeatures2d.SIFT_create()\n",
    "    \n",
    "    kp1, des1 = sift.detectAndCompute(img1,None)\n",
    "\n",
    "    kp2, des2 = sift.detectAndCompute(img2,None)\n",
    "\n",
    "    # create BFMatcher object\n",
    "    bf = cv2.BFMatcher(cv2.NORM_L2, crossCheck=True)\n",
    "\n",
    "    # Match descriptors.\n",
    "    matches = bf.match(des1,des2)\n",
    "\n",
    "    min_dist = np.min([matches[i].distance for i in range(len(matches))])\n",
    "    \n",
    "#     matches = sorted(matches, key = lambda x:x.distance)\n",
    "\n",
    "# # Draw first 10 matches.\n",
    "#     img3 = cv2.drawMatches(img1,kp1,img2,kp2,matches, img1)\n",
    "\n",
    "#     plt.imshow(img3),plt.show()\n",
    "\n",
    "    return min_dist"
   ]
  },
  {
   "cell_type": "code",
   "execution_count": 92,
   "metadata": {},
   "outputs": [],
   "source": [
    "def RG(img1, img2):\n",
    "    \n",
    "    x,y = img1.shape\n",
    "    \n",
    "    x = np.int(x/4)\n",
    "    \n",
    "    y = np.int(y/2)\n",
    "    \n",
    "    i = 0\n",
    "    \n",
    "    min_dist = []\n",
    "    \n",
    "    while(x+i < img1.shape[0]):\n",
    "        \n",
    "        j = 0\n",
    "        \n",
    "        while(y+j < img1.shape[1]):\n",
    "            \n",
    "            min_dist.append(MDP(img1[i:x + i,j:y+j],img2[i:x + i,j:y+j]))\n",
    "            \n",
    "            \n",
    "            j = np.int(j + 0.75*y)\n",
    "            \n",
    "        i = np.int(i +0.75*x)    \n",
    "            \n",
    "    return np.mean(min_dist)"
   ]
  },
  {
   "cell_type": "markdown",
   "metadata": {},
   "source": [
    "<div class=\"alert alert-success\">\n",
    "\n",
    "<h2>  Evaluation</h2>\n",
    "</div>"
   ]
  },
  {
   "cell_type": "markdown",
   "metadata": {},
   "source": [
    "## Siamese network"
   ]
  },
  {
   "cell_type": "code",
   "execution_count": 48,
   "metadata": {},
   "outputs": [],
   "source": [
    "threshold = 0.25\n",
    "good_matches = 0\n",
    "bad_matches = 0\n",
    "for img_name in zip(test_img_names):\n",
    "    img1 = vgg_face_descriptor.predict(preprocess_image(img_name[0]))[0,:]\n",
    "    for name in zip(template_img_names):\n",
    "        img2 = vgg_face_descriptor.predict(preprocess_image(name[0]))[0,:]\n",
    "        if((findCosineSimilarity(img1,img2) <= threshold and img_name[0].split(\"/\")[-1][:-9] == name[0].split(\"/\")[-1][:-9]) or (findCosineSimilarity(img1,img2) > threshold and img_name[0].split(\"/\")[-1][:-9] != name[0].split(\"/\")[-1][:-9])):\n",
    "            good_matches +=1\n",
    "            \n",
    "        else:\n",
    "#             print(img_name,name,MDP(img,i))\n",
    "            bad_matches +=1"
   ]
  },
  {
   "cell_type": "code",
   "execution_count": 49,
   "metadata": {},
   "outputs": [
    {
     "data": {
      "text/plain": [
       "(0.9548611111111112, 0.04513888888888889)"
      ]
     },
     "execution_count": 49,
     "metadata": {},
     "output_type": "execute_result"
    }
   ],
   "source": [
    "good_matches/(good_matches+bad_matches),bad_matches/(good_matches+bad_matches)"
   ]
  },
  {
   "cell_type": "markdown",
   "metadata": {},
   "source": [
    "## SIFT"
   ]
  },
  {
   "cell_type": "code",
   "execution_count": 98,
   "metadata": {},
   "outputs": [],
   "source": [
    "threshold = 30\n",
    "good_matches = 0\n",
    "bad_matches = 0\n",
    "for img,img_name in zip(test_imgs,test_img_names):\n",
    "    \n",
    "    for i,name in zip(template_imgs,template_img_names):\n",
    "        \n",
    "        if((MDP(img,i) <= 30 and img_name.split(\"/\")[-1][:-9] == name.split(\"/\")[-1][:-9]) or (MDP(img,i) > 30 and img_name.split(\"/\")[-1][:-9] != name.split(\"/\")[-1][:-9])):\n",
    "            good_matches +=1\n",
    "            \n",
    "        else:\n",
    "#             print(img_name,name,MDP(img,i))\n",
    "            bad_matches +=1"
   ]
  },
  {
   "cell_type": "code",
   "execution_count": 99,
   "metadata": {},
   "outputs": [
    {
     "data": {
      "text/plain": [
       "(0.9583333333333334, 0.041666666666666664)"
      ]
     },
     "execution_count": 99,
     "metadata": {},
     "output_type": "execute_result"
    }
   ],
   "source": [
    "good_matches/(good_matches+bad_matches),bad_matches/(good_matches+bad_matches)"
   ]
  },
  {
   "cell_type": "markdown",
   "metadata": {},
   "source": [
    "<div class=\"alert alert-success\">\n",
    "\n",
    "<h2>  Resistance to the Change of Contrast</h2>\n",
    "</div>"
   ]
  },
  {
   "cell_type": "markdown",
   "metadata": {},
   "source": [
    "## Siamese network"
   ]
  },
  {
   "cell_type": "code",
   "execution_count": 53,
   "metadata": {},
   "outputs": [],
   "source": [
    "from PIL import Image\n",
    "\n",
    "\n",
    "def change_contrast(img, level):\n",
    "\n",
    "    img = Image.open(img)\n",
    "    img.load()\n",
    "\n",
    "    factor = (259 * (level+255)) / (255 * (259-level))\n",
    "    for x in range(img.size[0]):\n",
    "        for y in range(img.size[1]):\n",
    "            color = img.getpixel((x, y))\n",
    "            new_color = tuple(int(factor * (c-128) + 128) for c in color)\n",
    "            img.putpixel((x, y), new_color)\n",
    "\n",
    "    return img"
   ]
  },
  {
   "cell_type": "code",
   "execution_count": 58,
   "metadata": {},
   "outputs": [],
   "source": [
    "#for file in glob.glob(\"Image2/Test/*\"):\n",
    " #   result=change_contrast(file, 100)\n",
    "  #  result.save('Image2/Contrast/'+file[12:])"
   ]
  },
  {
   "cell_type": "code",
   "execution_count": 76,
   "metadata": {},
   "outputs": [],
   "source": [
    "threshold = 0.25\n",
    "good_matches = 0\n",
    "bad_matches = 0\n",
    "for img_name in zip(contrast_img_names):\n",
    "    img1 = vgg_face_descriptor.predict(preprocess_image(img_name[0]))[0,:]\n",
    "    for name in zip(template_img_names):\n",
    "        img2 = vgg_face_descriptor.predict(preprocess_image(name[0]))[0,:]\n",
    "        if((findCosineSimilarity(img1,img2) <= threshold and img_name[0].split(\"/\")[-1][:-9] == name[0].split(\"/\")[-1][:-9]) or (findCosineSimilarity(img1,img2) > threshold and img_name[0].split(\"/\")[-1][:-9] != name[0].split(\"/\")[-1][:-9])):\n",
    "            good_matches +=1\n",
    "            \n",
    "        else:\n",
    "#             print(img_name,name,MDP(img,i))\n",
    "            bad_matches +=1"
   ]
  },
  {
   "cell_type": "code",
   "execution_count": 77,
   "metadata": {},
   "outputs": [
    {
     "data": {
      "text/plain": [
       "(0.9522569444444444, 0.04774305555555555)"
      ]
     },
     "execution_count": 77,
     "metadata": {},
     "output_type": "execute_result"
    }
   ],
   "source": [
    "good_matches/(good_matches+bad_matches),bad_matches/(good_matches+bad_matches)"
   ]
  },
  {
   "cell_type": "markdown",
   "metadata": {},
   "source": [
    "## SIFT"
   ]
  },
  {
   "cell_type": "code",
   "execution_count": 106,
   "metadata": {},
   "outputs": [],
   "source": [
    "threshold = 30\n",
    "good_matches = 0\n",
    "bad_matches = 0\n",
    "for img,img_name in zip(contrast_imgs,contrast_img_names):\n",
    "    \n",
    "    for i,name in zip(template_imgs,template_img_names):\n",
    "        \n",
    "        if((MDP(img,i) <= 30 and img_name.split(\"/\")[-1][:-9] == name.split(\"/\")[-1][:-9]) or (MDP(img,i) > 30 and img_name.split(\"/\")[-1][:-9] != name.split(\"/\")[-1][:-9])):\n",
    "            good_matches +=1\n",
    "            \n",
    "        else:\n",
    "#             print(img_name,name,MDP(img,i))\n",
    "            bad_matches +=1"
   ]
  },
  {
   "cell_type": "code",
   "execution_count": 107,
   "metadata": {},
   "outputs": [
    {
     "data": {
      "text/plain": [
       "(0.9583333333333334, 0.041666666666666664)"
      ]
     },
     "execution_count": 107,
     "metadata": {},
     "output_type": "execute_result"
    }
   ],
   "source": [
    "good_matches/(good_matches+bad_matches),bad_matches/(good_matches+bad_matches)"
   ]
  },
  {
   "cell_type": "markdown",
   "metadata": {},
   "source": [
    "<div class=\"alert alert-success\">\n",
    "\n",
    "<h2>  Resistance to  Rotation</h2>\n",
    "</div>"
   ]
  },
  {
   "cell_type": "markdown",
   "metadata": {},
   "source": [
    "## Siamese network"
   ]
  },
  {
   "cell_type": "code",
   "execution_count": 78,
   "metadata": {},
   "outputs": [],
   "source": [
    "from PIL import Image\n",
    "#for file in  glob.glob(\"Image2/Test/*\"):\n",
    " #   im = Image.open(file)\n",
    "  #  im1=im.rotate(30)\n",
    "   # im1.save(\"Image2/Rotation/\"+file[12:])"
   ]
  },
  {
   "cell_type": "code",
   "execution_count": 81,
   "metadata": {},
   "outputs": [],
   "source": [
    "threshold = 0.25\n",
    "good_matches = 0\n",
    "bad_matches = 0\n",
    "for img_name in zip(rotation_img_names):\n",
    "    img1 = vgg_face_descriptor.predict(preprocess_image(img_name[0]))[0,:]\n",
    "    for name in zip(template_img_names):\n",
    "        img2 = vgg_face_descriptor.predict(preprocess_image(name[0]))[0,:]\n",
    "        if((findCosineSimilarity(img1,img2) <= threshold and img_name[0].split(\"/\")[-1][:-9] == name[0].split(\"/\")[-1][:-9]) or (findCosineSimilarity(img1,img2) > threshold and img_name[0].split(\"/\")[-1][:-9] != name[0].split(\"/\")[-1][:-9])):\n",
    "            good_matches +=1\n",
    "            \n",
    "        else:\n",
    "#             print(img_name,name,MDP(img,i))\n",
    "            bad_matches +=1"
   ]
  },
  {
   "cell_type": "code",
   "execution_count": 82,
   "metadata": {},
   "outputs": [
    {
     "data": {
      "text/plain": [
       "(0.9661458333333334, 0.033854166666666664)"
      ]
     },
     "execution_count": 82,
     "metadata": {},
     "output_type": "execute_result"
    }
   ],
   "source": [
    "good_matches/(good_matches+bad_matches),bad_matches/(good_matches+bad_matches)"
   ]
  },
  {
   "cell_type": "markdown",
   "metadata": {},
   "source": [
    "## SIFT"
   ]
  },
  {
   "cell_type": "code",
   "execution_count": 108,
   "metadata": {},
   "outputs": [],
   "source": [
    "threshold = 30\n",
    "good_matches = 0\n",
    "bad_matches = 0\n",
    "for img,img_name in zip(rotation_imgs,rotation_img_names):\n",
    "    \n",
    "    for i,name in zip(template_imgs,template_img_names):\n",
    "        \n",
    "        if((MDP(img,i) <= 30 and img_name.split(\"/\")[-1][:-9] == name.split(\"/\")[-1][:-9]) or (MDP(img,i) > 30 and img_name.split(\"/\")[-1][:-9] != name.split(\"/\")[-1][:-9])):\n",
    "            good_matches +=1\n",
    "            \n",
    "        else:\n",
    "#             print(img_name,name,MDP(img,i))\n",
    "            bad_matches +=1"
   ]
  },
  {
   "cell_type": "code",
   "execution_count": 109,
   "metadata": {},
   "outputs": [
    {
     "data": {
      "text/plain": [
       "(0.9583333333333334, 0.041666666666666664)"
      ]
     },
     "execution_count": 109,
     "metadata": {},
     "output_type": "execute_result"
    }
   ],
   "source": [
    "good_matches/(good_matches+bad_matches),bad_matches/(good_matches+bad_matches)"
   ]
  },
  {
   "cell_type": "markdown",
   "metadata": {},
   "source": [
    "<div class=\"alert alert-success\">\n",
    "\n",
    "<h2>  Resistance to brightness</h2>\n",
    "</div>"
   ]
  },
  {
   "cell_type": "markdown",
   "metadata": {},
   "source": [
    "## Siamese network"
   ]
  },
  {
   "cell_type": "code",
   "execution_count": 85,
   "metadata": {},
   "outputs": [],
   "source": [
    "from PIL import Image, ImageEnhance \n",
    "#for file in  glob.glob(\"Image2/Test/*\"):\n",
    " #   enhancer = ImageEnhance.Brightness(im)\n",
    "  #  enhanced_im = enhancer.enhance(1.8)\n",
    "   # enhanced_im.save(\"Image2/Brightness/\"+file[12:])"
   ]
  },
  {
   "cell_type": "code",
   "execution_count": 88,
   "metadata": {},
   "outputs": [],
   "source": [
    "threshold = 0.25\n",
    "good_matches = 0\n",
    "bad_matches = 0\n",
    "for img_name in zip(bright_img_names):\n",
    "    img1 = vgg_face_descriptor.predict(preprocess_image(img_name[0]))[0,:]\n",
    "    for name in zip(template_img_names):\n",
    "        img2 = vgg_face_descriptor.predict(preprocess_image(name[0]))[0,:]\n",
    "        if((findCosineSimilarity(img1,img2) <= threshold and img_name[0].split(\"/\")[-1][:-9] == name[0].split(\"/\")[-1][:-9]) or (findCosineSimilarity(img1,img2) > threshold and img_name[0].split(\"/\")[-1][:-9] != name[0].split(\"/\")[-1][:-9])):\n",
    "            good_matches +=1\n",
    "            \n",
    "        else:\n",
    "#             print(img_name,name,MDP(img,i))\n",
    "            bad_matches +=1"
   ]
  },
  {
   "cell_type": "code",
   "execution_count": 89,
   "metadata": {},
   "outputs": [
    {
     "data": {
      "text/plain": [
       "(0.9392361111111112, 0.06076388888888889)"
      ]
     },
     "execution_count": 89,
     "metadata": {},
     "output_type": "execute_result"
    }
   ],
   "source": [
    "good_matches/(good_matches+bad_matches),bad_matches/(good_matches+bad_matches)"
   ]
  },
  {
   "cell_type": "markdown",
   "metadata": {},
   "source": [
    "## SIFT"
   ]
  },
  {
   "cell_type": "code",
   "execution_count": 110,
   "metadata": {},
   "outputs": [],
   "source": [
    "threshold = 30\n",
    "good_matches = 0\n",
    "bad_matches = 0\n",
    "for img,img_name in zip(bright_imgs,bright_img_names):\n",
    "    \n",
    "    for i,name in zip(template_imgs,template_img_names):\n",
    "        \n",
    "        if((MDP(img,i) <= 30 and img_name.split(\"/\")[-1][:-9] == name.split(\"/\")[-1][:-9]) or (MDP(img,i) > 30 and img_name.split(\"/\")[-1][:-9] != name.split(\"/\")[-1][:-9])):\n",
    "            good_matches +=1\n",
    "            \n",
    "        else:\n",
    "#             print(img_name,name,MDP(img,i))\n",
    "            bad_matches +=1"
   ]
  },
  {
   "cell_type": "code",
   "execution_count": 111,
   "metadata": {},
   "outputs": [
    {
     "data": {
      "text/plain": [
       "(0.9583333333333334, 0.041666666666666664)"
      ]
     },
     "execution_count": 111,
     "metadata": {},
     "output_type": "execute_result"
    }
   ],
   "source": [
    "good_matches/(good_matches+bad_matches),bad_matches/(good_matches+bad_matches)"
   ]
  },
  {
   "cell_type": "code",
   "execution_count": null,
   "metadata": {},
   "outputs": [],
   "source": []
  }
 ],
 "metadata": {
  "kernelspec": {
   "display_name": "Python 3",
   "language": "python",
   "name": "python3"
  },
  "language_info": {
   "codemirror_mode": {
    "name": "ipython",
    "version": 3
   },
   "file_extension": ".py",
   "mimetype": "text/x-python",
   "name": "python",
   "nbconvert_exporter": "python",
   "pygments_lexer": "ipython3",
   "version": "3.6.0"
  }
 },
 "nbformat": 4,
 "nbformat_minor": 2
}
