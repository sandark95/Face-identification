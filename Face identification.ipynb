{
 "cells": [
  {
   "cell_type": "markdown",
   "metadata": {},
   "source": [
    "## Imports"
   ]
  },
  {
   "cell_type": "code",
   "execution_count": 66,
   "metadata": {},
   "outputs": [],
   "source": [
    "import cv2\n",
    "import os\n",
    "import re\n",
    "import glob\n",
    "import numpy as np\n",
    "from PIL import Image\n",
    "from zipfile import ZipFile\n",
    "from matplotlib import pyplot as plt\n",
    "from keras.preprocessing import image\n",
    "from keras.models import model_from_json\n",
    "from keras.models import Model, Sequential\n",
    "from keras.applications.imagenet_utils import preprocess_input\n",
    "from keras.preprocessing.image import load_img, save_img, img_to_array\n",
    "from keras.layers import Input, Convolution2D, ZeroPadding2D, MaxPooling2D, Flatten, Dense, Dropout, Activation"
   ]
  },
  {
   "cell_type": "markdown",
   "metadata": {},
   "source": [
    "# Data preparation"
   ]
  },
  {
   "cell_type": "code",
   "execution_count": 67,
   "metadata": {},
   "outputs": [],
   "source": [
    "def read_images(filename,gray = True):\n",
    "    \n",
    "    filename = filename\n",
    "    \n",
    "    imgs = []\n",
    "    \n",
    "    img_names = []\n",
    "    \n",
    "    clahe = cv2.createCLAHE(clipLimit=2.0, tileGridSize=(8,8))\n",
    "    \n",
    "    # read images after extracting zip file in RAM\n",
    "    with ZipFile(filename) as archive:\n",
    "        for count, entry in enumerate(archive.infolist()):\n",
    "            with archive.open(entry) as file:\n",
    "                if(file.name.endswith(\"jpg\") or file.name.endswith(\"png\")):\n",
    "                    \n",
    "                    \n",
    "                    img = Image.open(file)\n",
    "                    \n",
    "                    # convert to grayscale\n",
    "                    if(gray == True):\n",
    "                        \n",
    "                        img = np.array(img.convert('L'))\n",
    "                        \n",
    "                        img = clahe.apply(img)\n",
    "                    \n",
    "                    else:\n",
    "                        img = np.array(img)\n",
    "                    \n",
    "                    imgs.append(img)\n",
    "                    \n",
    "                    img_names.append(file.name)\n",
    "\n",
    "    return imgs,img_names\n",
    "\n",
    "def read(gray,filename):\n",
    "    \n",
    "    imgs = []\n",
    "    \n",
    "    names = []\n",
    "    \n",
    "    tmp,tmp1 = read_images(filename)\n",
    "    \n",
    "    imgs += tmp\n",
    "    \n",
    "    names+= tmp1\n",
    "    \n",
    "    return np.array(imgs),names"
   ]
  },
  {
   "cell_type": "code",
   "execution_count": 68,
   "metadata": {},
   "outputs": [],
   "source": [
    "for item in os.listdir():\n",
    "\n",
    "    if(item.endswith(\"zip\")):\n",
    "\n",
    "        if(item == \"BDD.zip\"):\n",
    "\n",
    "            template_imgs, template_img_names = read(True,item)\n",
    "            \n",
    "        elif (item==\"Test.zip\") :\n",
    "\n",
    "            test_imgs,test_img_names = read(True,item)\n",
    "            \n",
    "        elif (item==\"Contrast.zip\") :\n",
    "\n",
    "            contrast_imgs,contrast_img_names = read(True,item)\n",
    "            \n",
    "        elif (item==\"Rotation.zip\") :\n",
    "\n",
    "            rotation_imgs,rotation_img_names = read(True,item)\n",
    "            \n",
    "        elif (item==\"Brightness.zip\"):\n",
    "            \n",
    "            bright_imgs,bright_img_names = read(True,item)"
   ]
  },
  {
   "cell_type": "code",
   "execution_count": 4,
   "metadata": {},
   "outputs": [
    {
     "data": {
      "text/plain": [
       "((35, 250, 250),\n",
       " (70, 250, 250),\n",
       " (35, 250, 250),\n",
       " (35, 250, 250),\n",
       " (35, 250, 250))"
      ]
     },
     "execution_count": 4,
     "metadata": {},
     "output_type": "execute_result"
    }
   ],
   "source": [
    "test_imgs.shape,template_imgs.shape,contrast_imgs.shape,rotation_imgs.shape,bright_imgs.shape"
   ]
  },
  {
   "cell_type": "markdown",
   "metadata": {},
   "source": [
    "# Evaluation"
   ]
  },
  {
   "cell_type": "markdown",
   "metadata": {},
   "source": [
    "## Siamese network"
   ]
  },
  {
   "cell_type": "code",
   "execution_count": 5,
   "metadata": {},
   "outputs": [],
   "source": [
    "model = Sequential()\n",
    "model.add(ZeroPadding2D((1,1),input_shape=(224,224, 3)))\n",
    "model.add(Convolution2D(64, (3, 3), activation='relu'))\n",
    "model.add(ZeroPadding2D((1,1)))\n",
    "model.add(Convolution2D(64, (3, 3), activation='relu'))\n",
    "model.add(MaxPooling2D((2,2), strides=(2,2)))\n",
    " \n",
    "model.add(ZeroPadding2D((1,1)))\n",
    "model.add(Convolution2D(128, (3, 3), activation='relu'))\n",
    "model.add(ZeroPadding2D((1,1)))\n",
    "model.add(Convolution2D(128, (3, 3), activation='relu'))\n",
    "model.add(MaxPooling2D((2,2), strides=(2,2)))\n",
    " \n",
    "model.add(ZeroPadding2D((1,1)))\n",
    "model.add(Convolution2D(256, (3, 3), activation='relu'))\n",
    "model.add(ZeroPadding2D((1,1)))\n",
    "model.add(Convolution2D(256, (3, 3), activation='relu'))\n",
    "model.add(ZeroPadding2D((1,1)))\n",
    "model.add(Convolution2D(256, (3, 3), activation='relu'))\n",
    "model.add(MaxPooling2D((2,2), strides=(2,2)))\n",
    " \n",
    "model.add(ZeroPadding2D((1,1)))\n",
    "model.add(Convolution2D(512, (3, 3), activation='relu'))\n",
    "model.add(ZeroPadding2D((1,1)))\n",
    "model.add(Convolution2D(512, (3, 3), activation='relu'))\n",
    "model.add(ZeroPadding2D((1,1)))\n",
    "model.add(Convolution2D(512, (3, 3), activation='relu'))\n",
    "model.add(MaxPooling2D((2,2), strides=(2,2)))\n",
    " \n",
    "model.add(ZeroPadding2D((1,1)))\n",
    "model.add(Convolution2D(512, (3, 3), activation='relu'))\n",
    "model.add(ZeroPadding2D((1,1)))\n",
    "model.add(Convolution2D(512, (3, 3), activation='relu'))\n",
    "model.add(ZeroPadding2D((1,1)))\n",
    "model.add(Convolution2D(512, (3, 3), activation='relu'))\n",
    "model.add(MaxPooling2D((2,2), strides=(2,2)))\n",
    " \n",
    "model.add(Convolution2D(4096, (7, 7), activation='relu'))\n",
    "model.add(Dropout(0.5))\n",
    "model.add(Convolution2D(4096, (1, 1), activation='relu'))\n",
    "model.add(Dropout(0.5))\n",
    "model.add(Convolution2D(2622, (1, 1)))\n",
    "model.add(Flatten())\n",
    "model.add(Activation('softmax'))"
   ]
  },
  {
   "cell_type": "markdown",
   "metadata": {},
   "source": [
    "Download the weights by executing this cell. It requires cURL installed, if you don't have it, download the file from this <a href=\"https://drive.google.com/file/d/1EjKFfz5sOUaZbpHgOo1FBLAUHSQMozp2/view?fbclid=IwAR3Z9jWs9CTAtvxXvweDH19W5XuEiIEb-tQRDHnZFATxAHvVaI-w0cFEc-s\">link</a>"
   ]
  },
  {
   "cell_type": "code",
   "execution_count": 6,
   "metadata": {},
   "outputs": [
    {
     "name": "stdout",
     "output_type": "stream",
     "text": [
      "  % Total    % Received % Xferd  Average Speed   Time    Time     Time  Current\n",
      "                                 Dload  Upload   Total   Spent    Left  Speed\n",
      "100  553M    0  553M    0     0  74.2M      0 --:--:--  0:00:07 --:--:-- 79.5M    0 --:--:--  0:00:03 --:--:-- 67.7M\n"
     ]
    }
   ],
   "source": [
    "if('vgg_face_weights.h5' not in os.listdir()):\n",
    "    !curl 'https://doc-0c-8s-docs.googleusercontent.com/docs/securesc/irhn5id42n45amehdukhdmveaa64qdca/pcjrmsabniqpn7f43f1hc29oic5su5o8/1546797600000/03047265511933935203/12338030662361016533/1EjKFfz5sOUaZbpHgOo1FBLAUHSQMozp2?e=download&nonce=3e2lits3ba8oo&user=12338030662361016533&hash=r0hqrcivs4pmu08iiludccr8qq8ubbv9' -H 'authority: doc-0c-8s-docs.googleusercontent.com' -H 'upgrade-insecure-requests: 1' -H 'user-agent: Mozilla/5.0 (X11; Linux x86_64) AppleWebKit/537.36 (KHTML, like Gecko) Chrome/70.0.3538.77 Safari/537.36' -H 'accept: text/html,application/xhtml+xml,application/xml;q=0.9,image/webp,image/apng,*/*;q=0.8' -H 'x-client-data: CIa2yQEIprbJAQipncoBCKijygEIv6fKAQiQqMoBCOKoygEY+aXKAQ==' -H 'referer: https://drive.google.com/uc?id=1EjKFfz5sOUaZbpHgOo1FBLAUHSQMozp2&export=download' -H 'accept-encoding: gzip, deflate, br' -H 'accept-language: en-US,en;q=0.9' -H 'cookie: AUTH_7ncsoht60h5nj3290k7ksjvs3qm9agnm_nonce=3e2lits3ba8oo; NID=146=2m64YwK1FU_-wWYEr0N6qIT8KCPul94SVvGNE1YFUODGL-9ZZYgtf0PjHL_TrgeguaQjrWszdcM8aTlORHFViPx5R3pkEaM2uaQDIPyQkNY-ns5aQ0_77DSWxzvulfHWNxRIonT9b28IBORFdd1Cb8nPngy3F8nCQarRxGO2hNM' --compressed --output vgg_face_weights.h5"
   ]
  },
  {
   "cell_type": "code",
   "execution_count": 7,
   "metadata": {},
   "outputs": [],
   "source": [
    "model.load_weights('vgg_face_weights.h5')"
   ]
  },
  {
   "cell_type": "code",
   "execution_count": 8,
   "metadata": {},
   "outputs": [],
   "source": [
    "def preprocess_image(image_path):\n",
    "    img = load_img(image_path, target_size=(224, 224))\n",
    "    img = img_to_array(img)\n",
    "    img = np.expand_dims(img, axis=0)\n",
    "    img = preprocess_input(img)\n",
    "    return img"
   ]
  },
  {
   "cell_type": "code",
   "execution_count": 9,
   "metadata": {},
   "outputs": [],
   "source": [
    "def findCosineSimilarity(source_representation, test_representation):\n",
    "    a = np.matmul(np.transpose(source_representation), test_representation)\n",
    "    b = np.sum(np.multiply(source_representation, source_representation))\n",
    "    c = np.sum(np.multiply(test_representation, test_representation))\n",
    "    return 1 - (a / (np.sqrt(b) * np.sqrt(c)))\n",
    "\n",
    "def findEuclideanDistance(source_representation, test_representation):\n",
    "    euclidean_distance = source_representation - test_representation\n",
    "    euclidean_distance = np.sum(np.multiply(euclidean_distance, euclidean_distance))\n",
    "    euclidean_distance = np.sqrt(euclidean_distance)\n",
    "    return euclidean_distance"
   ]
  },
  {
   "cell_type": "code",
   "execution_count": 10,
   "metadata": {},
   "outputs": [],
   "source": [
    "vgg_face_descriptor = Model(inputs=model.layers[0].input, outputs=model.layers[-2].output)"
   ]
  },
  {
   "cell_type": "code",
   "execution_count": 11,
   "metadata": {},
   "outputs": [],
   "source": [
    "epsilon = 0.25\n",
    "epsilon1=50\n",
    "\n",
    "def verifyFace(img1, img2):\n",
    "    img1_representation = vgg_face_descriptor.predict(preprocess_image(img1))[0,:]\n",
    "    img2_representation = vgg_face_descriptor.predict(preprocess_image(img2))[0,:]\n",
    "    \n",
    "    cosine_similarity = findCosineSimilarity(img1_representation, img2_representation)\n",
    "    euclidean_distance = findEuclideanDistance(img1_representation, img2_representation)\n",
    "    \n",
    "    print(\"Cosine similarity: \",cosine_similarity)\n",
    "    print(\"Euclidean distance: \",euclidean_distance)\n",
    "    \n",
    "    if(cosine_similarity < epsilon) and (euclidean_distance < epsilon1):\n",
    "        print(\"verified... they are same person\")\n",
    "    else:\n",
    "        print(\"unverified! they are not same person!\")\n",
    "    \n",
    "    f = plt.figure()\n",
    "    f.add_subplot(1,2, 1)\n",
    "    plt.imshow(image.load_img(img1))\n",
    "    plt.xticks([]); plt.yticks([])\n",
    "    f.add_subplot(1,2, 2)\n",
    "    plt.imshow(image.load_img(img2))\n",
    "    plt.xticks([]); plt.yticks([])\n",
    "    plt.show(block=True)\n",
    "    print(\"-----------------------------------------\")"
   ]
  },
  {
   "cell_type": "code",
   "execution_count": 64,
   "metadata": {},
   "outputs": [],
   "source": [
    "def preprocess_image1(image):\n",
    "    img=Image.fromarray(image).resize((224, 224))\n",
    "    #img = load_img(image1, target_size=(224, 224))\n",
    "    img = img_to_array(img)\n",
    "    img = np.expand_dims(img, axis=0)\n",
    "    img = preprocess_input(img)\n",
    "    return img"
   ]
  },
  {
   "cell_type": "markdown",
   "metadata": {},
   "source": [
    "## SIFT"
   ]
  },
  {
   "cell_type": "markdown",
   "metadata": {},
   "source": [
    "## Minimum Pair Distance (MDP)"
   ]
  },
  {
   "cell_type": "code",
   "execution_count": 12,
   "metadata": {},
   "outputs": [],
   "source": [
    "def MDP(img1, img2):\n",
    "\n",
    "    sift = cv2.xfeatures2d.SIFT_create()\n",
    "    \n",
    "    kp1, des1 = sift.detectAndCompute(img1,None)\n",
    "\n",
    "    kp2, des2 = sift.detectAndCompute(img2,None)\n",
    "\n",
    "    # create BFMatcher object\n",
    "    bf = cv2.BFMatcher(cv2.NORM_L2, crossCheck=True)\n",
    "\n",
    "    # Match descriptors.\n",
    "    matches = bf.match(des1,des2)\n",
    "\n",
    "    min_dist = np.min([matches[i].distance for i in range(len(matches))])\n",
    "    \n",
    "    return min_dist"
   ]
  },
  {
   "cell_type": "markdown",
   "metadata": {},
   "source": [
    "## Regular Grid (RG)\n",
    "_We will not use this method for comparison_"
   ]
  },
  {
   "cell_type": "code",
   "execution_count": 13,
   "metadata": {},
   "outputs": [],
   "source": [
    "def RG(img1, img2):\n",
    "    \n",
    "    x,y = img1.shape\n",
    "    \n",
    "    x = np.int(x/4)\n",
    "    \n",
    "    y = np.int(y/2)\n",
    "    \n",
    "    i = 0\n",
    "    \n",
    "    min_dist = []\n",
    "    \n",
    "    while(x+i < img1.shape[0]):\n",
    "        \n",
    "        j = 0\n",
    "        \n",
    "        while(y+j < img1.shape[1]):\n",
    "            \n",
    "            min_dist.append(MDP(img1[i:x + i,j:y+j],img2[i:x + i,j:y+j]))\n",
    "            \n",
    "            \n",
    "            j = np.int(j + 0.75*y)\n",
    "            \n",
    "        i = np.int(i +0.75*x)    \n",
    "            \n",
    "    return np.mean(min_dist)"
   ]
  },
  {
   "cell_type": "markdown",
   "metadata": {},
   "source": [
    "## Results"
   ]
  },
  {
   "cell_type": "code",
   "execution_count": 96,
   "metadata": {},
   "outputs": [],
   "source": [
    "def test_Siamese(TestType):\n",
    "    threshold = 0.25\n",
    "    good_matches = 0\n",
    "    bad_matches = 0\n",
    "    test_imgs,test_img_names=read_images(TestType+'.zip',False)\n",
    "    template,template_img_names=read_images('BDD.zip',False)\n",
    "    for img,img_name in zip(test_imgs,test_img_names):\n",
    "        img1 = vgg_face_descriptor.predict(preprocess_image1(img))[0,:]\n",
    "        for i,name in zip(template,template_img_names):\n",
    "            img2 = vgg_face_descriptor.predict(preprocess_image1(i))[0,:]\n",
    "            if((findCosineSimilarity(img1,img2) <= threshold and img_name.split(\"/\")[-1][:-9] == name.split(\"/\")[-1][:-9]) or (findCosineSimilarity(img1,img2) > threshold and img_name.split(\"/\")[-1][:-9] != name.split(\"/\")[-1][:-9])):\n",
    "                good_matches +=1\n",
    "            \n",
    "            else:\n",
    "                bad_matches +=1\n",
    "    return good_matches/(good_matches+bad_matches),bad_matches/(good_matches+bad_matches)\n",
    "\n",
    "def test_SIFT(TestType):\n",
    "    threshold = 30\n",
    "    good_matches = 0\n",
    "    bad_matches = 0\n",
    "    test_imgs,test_img_names=read_images(TestType+'.zip',True)\n",
    "    template,template_img_names=read_images('BDD.zip',True)\n",
    "    for img,img_name in zip(test_imgs,test_img_names):\n",
    "        for i,name in zip(template,template_img_names):\n",
    "            if((MDP(img,i) <=threshold and img_name.split(\"/\")[-1][:-9] == name.split(\"/\")[-1][:-9]) or (MDP(img,i) >threshold and img_name.split(\"/\")[-1][:-9] != name.split(\"/\")[-1][:-9])):\n",
    "                good_matches +=1\n",
    "            \n",
    "            else:\n",
    "                bad_matches +=1\n",
    "    return good_matches/(good_matches+bad_matches),bad_matches/(good_matches+bad_matches)"
   ]
  },
  {
   "cell_type": "markdown",
   "metadata": {},
   "source": [
    "__Siamese network__"
   ]
  },
  {
   "cell_type": "code",
   "execution_count": 94,
   "metadata": {},
   "outputs": [
    {
     "data": {
      "text/plain": [
       "(0.96, 0.04)"
      ]
     },
     "execution_count": 94,
     "metadata": {},
     "output_type": "execute_result"
    }
   ],
   "source": [
    "test_Siamese('Test')"
   ]
  },
  {
   "cell_type": "markdown",
   "metadata": {},
   "source": [
    "__SIFT__"
   ]
  },
  {
   "cell_type": "code",
   "execution_count": 97,
   "metadata": {},
   "outputs": [
    {
     "data": {
      "text/plain": [
       "(0.9714285714285714, 0.02857142857142857)"
      ]
     },
     "execution_count": 97,
     "metadata": {},
     "output_type": "execute_result"
    }
   ],
   "source": [
    "test_SIFT('Test')"
   ]
  },
  {
   "cell_type": "markdown",
   "metadata": {},
   "source": [
    "<div class=\"alert alert-success\">\n",
    "\n",
    "<h2>  Resistance to the Change of Contrast</h2>\n",
    "</div>"
   ]
  },
  {
   "cell_type": "markdown",
   "metadata": {},
   "source": [
    "## Siamese network"
   ]
  },
  {
   "cell_type": "code",
   "execution_count": null,
   "metadata": {},
   "outputs": [],
   "source": [
    "from PIL import Image\n",
    "\n",
    "\n",
    "def change_contrast(img, level):\n",
    "\n",
    "    img = Image.open(img)\n",
    "    img.load()\n",
    "\n",
    "    factor = (259 * (level+255)) / (255 * (259-level))\n",
    "    for x in range(img.size[0]):\n",
    "        for y in range(img.size[1]):\n",
    "            color = img.getpixel((x, y))\n",
    "            new_color = tuple(int(factor * (c-128) + 128) for c in color)\n",
    "            img.putpixel((x, y), new_color)\n",
    "\n",
    "    return img"
   ]
  },
  {
   "cell_type": "code",
   "execution_count": null,
   "metadata": {},
   "outputs": [],
   "source": [
    "#for file in glob.glob(\"Image2/Test/*\"):\n",
    " #   result=change_contrast(file, 100)\n",
    "  #  result.save('Image2/Contrast/'+file[12:])"
   ]
  },
  {
   "cell_type": "code",
   "execution_count": null,
   "metadata": {},
   "outputs": [],
   "source": [
    "test_Siamese('Contrast')"
   ]
  },
  {
   "cell_type": "markdown",
   "metadata": {},
   "source": [
    "__SIFT__"
   ]
  },
  {
   "cell_type": "code",
   "execution_count": null,
   "metadata": {},
   "outputs": [],
   "source": [
    "test_SIFT('Contrast')"
   ]
  },
  {
   "cell_type": "markdown",
   "metadata": {},
   "source": [
    "<div class=\"alert alert-success\">\n",
    "\n",
    "<h2>  Resistance to  Rotation</h2>\n",
    "</div>"
   ]
  },
  {
   "cell_type": "markdown",
   "metadata": {},
   "source": [
    "__Siamese network__"
   ]
  },
  {
   "cell_type": "code",
   "execution_count": null,
   "metadata": {},
   "outputs": [],
   "source": [
    "from PIL import Image\n",
    "#for file in  glob.glob(\"Image2/Test/*\"):\n",
    " #   im = Image.open(file)\n",
    "  #  im1=im.rotate(30)\n",
    "   # im1.save(\"Image2/Rotation/\"+file[12:])"
   ]
  },
  {
   "cell_type": "code",
   "execution_count": null,
   "metadata": {},
   "outputs": [],
   "source": [
    "test_Siamese('Rotation')"
   ]
  },
  {
   "cell_type": "markdown",
   "metadata": {},
   "source": [
    "__SIFT__"
   ]
  },
  {
   "cell_type": "code",
   "execution_count": null,
   "metadata": {},
   "outputs": [],
   "source": [
    "test_SIFT('Rotation')"
   ]
  },
  {
   "cell_type": "markdown",
   "metadata": {},
   "source": [
    "<div class=\"alert alert-success\">\n",
    "\n",
    "<h2>  Resistance to brightness</h2>\n",
    "</div>"
   ]
  },
  {
   "cell_type": "markdown",
   "metadata": {},
   "source": [
    "## Siamese network"
   ]
  },
  {
   "cell_type": "code",
   "execution_count": null,
   "metadata": {},
   "outputs": [],
   "source": [
    "from PIL import Image, ImageEnhance \n",
    "#for file in  glob.glob(\"Image2/Test/*\"):\n",
    " #   enhancer = ImageEnhance.Brightness(im)\n",
    "  #  enhanced_im = enhancer.enhance(1.8)\n",
    "   # enhanced_im.save(\"Image2/Brightness/\"+file[12:])"
   ]
  },
  {
   "cell_type": "code",
   "execution_count": null,
   "metadata": {},
   "outputs": [],
   "source": [
    "test_Siamese('Brightness')"
   ]
  },
  {
   "cell_type": "markdown",
   "metadata": {},
   "source": [
    "## SIFT"
   ]
  },
  {
   "cell_type": "code",
   "execution_count": null,
   "metadata": {},
   "outputs": [],
   "source": [
    "test_SIFT('Brightness')"
   ]
  },
  {
   "cell_type": "code",
   "execution_count": null,
   "metadata": {},
   "outputs": [],
   "source": []
  }
 ],
 "metadata": {
  "kernelspec": {
   "display_name": "Python 3",
   "language": "python",
   "name": "python3"
  },
  "language_info": {
   "codemirror_mode": {
    "name": "ipython",
    "version": 3
   },
   "file_extension": ".py",
   "mimetype": "text/x-python",
   "name": "python",
   "nbconvert_exporter": "python",
   "pygments_lexer": "ipython3",
   "version": "3.6.0"
  }
 },
 "nbformat": 4,
 "nbformat_minor": 2
}
