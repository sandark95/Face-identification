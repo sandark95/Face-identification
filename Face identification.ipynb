{
 "cells": [
  {
   "cell_type": "markdown",
   "metadata": {},
   "source": [
    "## Imports"
   ]
  },
  {
   "cell_type": "code",
   "execution_count": 10,
   "metadata": {},
   "outputs": [],
   "source": [
    "import cv2\n",
    "import os\n",
    "import re\n",
    "import glob\n",
    "import numpy as np\n",
    "from PIL import Image\n",
    "from zipfile import ZipFile\n",
    "from matplotlib import pyplot as plt\n",
    "from keras.preprocessing import image\n",
    "from keras.models import model_from_json\n",
    "from keras.models import Model, Sequential\n",
    "from keras.applications.imagenet_utils import preprocess_input\n",
    "from keras.preprocessing.image import load_img, save_img, img_to_array\n",
    "from keras.layers import Input, Convolution2D, ZeroPadding2D, MaxPooling2D, Flatten, Dense, Dropout, Activation"
   ]
  },
  {
   "cell_type": "markdown",
   "metadata": {},
   "source": [
    "# Data preparation"
   ]
  },
  {
   "cell_type": "code",
   "execution_count": 6,
   "metadata": {},
   "outputs": [],
   "source": [
    "def read_images(filename,preprocess = True):\n",
    "    \n",
    "    filename = filename\n",
    "    \n",
    "    imgs = []\n",
    "    \n",
    "    img_names = []\n",
    "    \n",
    "    clahe = cv2.createCLAHE(clipLimit=2.0, tileGridSize=(8,8))\n",
    "    \n",
    "    # read images after extracting zip file in RAM\n",
    "    with ZipFile(filename) as archive:\n",
    "        for count, entry in enumerate(archive.infolist()):\n",
    "            with archive.open(entry) as file:\n",
    "                if(file.name.endswith(\"jpg\") or file.name.endswith(\"png\")):\n",
    "                    \n",
    "                    # convert to grayscale\n",
    "                    img = np.array(Image.open(file).convert('L'))\n",
    "\n",
    "                    if(preprocess):\n",
    "               \n",
    "                        img = clahe.apply(img)\n",
    "\n",
    "                    imgs.append(img)\n",
    "                    \n",
    "                    img_names.append(file.name)\n",
    "\n",
    "    return imgs,img_names"
   ]
  },
  {
   "cell_type": "code",
   "execution_count": 7,
   "metadata": {},
   "outputs": [],
   "source": [
    "template_imgs = []\n",
    "\n",
    "template_img_names = []\n",
    "\n",
    "test_imgs = []\n",
    "\n",
    "test_img_names = []\n",
    "\n",
    "bright_imgs = []\n",
    "\n",
    "bright_img_names = []\n",
    "\n",
    "contrast_imgs = []\n",
    "\n",
    "contrast_img_names = []\n",
    "\n",
    "rotation_imgs = []\n",
    "\n",
    "rotation_img_names = []\n",
    "\n",
    "for item in os.listdir():\n",
    "    \n",
    "    if(item.endswith(\"zip\")):\n",
    "        \n",
    "        if(item == \"BDD.zip\"):\n",
    "            \n",
    "            tmp,tmp1 = read_images(item)\n",
    "\n",
    "            template_imgs += tmp\n",
    "\n",
    "            template_img_names += tmp1\n",
    "\n",
    "        elif (item==\"Test.zip\") :\n",
    "\n",
    "            tmp,tmp1 = read_images(item)\n",
    "\n",
    "            test_imgs += tmp\n",
    "\n",
    "            test_img_names += tmp1\n",
    "            \n",
    "        elif (item==\"Contrast.zip\") :\n",
    "\n",
    "            tmp,tmp1 = read_images(item)\n",
    "\n",
    "            contrast_imgs += tmp\n",
    "\n",
    "            contrast_img_names += tmp1\n",
    "            \n",
    "        elif (item==\"Rotation.zip\") :\n",
    "\n",
    "            tmp,tmp1 = read_images(item)\n",
    "\n",
    "            rotation_imgs += tmp\n",
    "\n",
    "            rotation_img_names += tmp1\n",
    "            \n",
    "        elif (item==\"Brightness.zip\"):\n",
    "\n",
    "            tmp,tmp1 = read_images(item)\n",
    "\n",
    "            bright_imgs += tmp\n",
    "\n",
    "            bright_img_names += tmp1\n",
    "\n",
    "contrast_imgs=np.array(contrast_imgs) \n",
    "bright_imgs=np.array(bright_imgs) \n",
    "rotation_imgs=np.array(rotation_imgs) \n",
    "test_imgs = np.array(test_imgs)\n",
    "template_imgs = np.array(template_imgs)"
   ]
  },
  {
   "cell_type": "code",
   "execution_count": 8,
   "metadata": {},
   "outputs": [
    {
     "data": {
      "text/plain": [
       "((35, 250, 250),\n",
       " (70, 250, 250),\n",
       " (35, 250, 250),\n",
       " (35, 250, 250),\n",
       " (35, 250, 250))"
      ]
     },
     "execution_count": 8,
     "metadata": {},
     "output_type": "execute_result"
    }
   ],
   "source": [
    "test_imgs.shape,template_imgs.shape,contrast_imgs.shape,rotation_imgs.shape,bright_imgs.shape"
   ]
  },
  {
   "cell_type": "markdown",
   "metadata": {},
   "source": [
    "# Evaluation"
   ]
  },
  {
   "cell_type": "markdown",
   "metadata": {},
   "source": [
    "## Siamese network"
   ]
  },
  {
   "cell_type": "code",
   "execution_count": 9,
   "metadata": {},
   "outputs": [],
   "source": [
    "model = Sequential()\n",
    "model.add(ZeroPadding2D((1,1),input_shape=(224,224, 3)))\n",
    "model.add(Convolution2D(64, (3, 3), activation='relu'))\n",
    "model.add(ZeroPadding2D((1,1)))\n",
    "model.add(Convolution2D(64, (3, 3), activation='relu'))\n",
    "model.add(MaxPooling2D((2,2), strides=(2,2)))\n",
    " \n",
    "model.add(ZeroPadding2D((1,1)))\n",
    "model.add(Convolution2D(128, (3, 3), activation='relu'))\n",
    "model.add(ZeroPadding2D((1,1)))\n",
    "model.add(Convolution2D(128, (3, 3), activation='relu'))\n",
    "model.add(MaxPooling2D((2,2), strides=(2,2)))\n",
    " \n",
    "model.add(ZeroPadding2D((1,1)))\n",
    "model.add(Convolution2D(256, (3, 3), activation='relu'))\n",
    "model.add(ZeroPadding2D((1,1)))\n",
    "model.add(Convolution2D(256, (3, 3), activation='relu'))\n",
    "model.add(ZeroPadding2D((1,1)))\n",
    "model.add(Convolution2D(256, (3, 3), activation='relu'))\n",
    "model.add(MaxPooling2D((2,2), strides=(2,2)))\n",
    " \n",
    "model.add(ZeroPadding2D((1,1)))\n",
    "model.add(Convolution2D(512, (3, 3), activation='relu'))\n",
    "model.add(ZeroPadding2D((1,1)))\n",
    "model.add(Convolution2D(512, (3, 3), activation='relu'))\n",
    "model.add(ZeroPadding2D((1,1)))\n",
    "model.add(Convolution2D(512, (3, 3), activation='relu'))\n",
    "model.add(MaxPooling2D((2,2), strides=(2,2)))\n",
    " \n",
    "model.add(ZeroPadding2D((1,1)))\n",
    "model.add(Convolution2D(512, (3, 3), activation='relu'))\n",
    "model.add(ZeroPadding2D((1,1)))\n",
    "model.add(Convolution2D(512, (3, 3), activation='relu'))\n",
    "model.add(ZeroPadding2D((1,1)))\n",
    "model.add(Convolution2D(512, (3, 3), activation='relu'))\n",
    "model.add(MaxPooling2D((2,2), strides=(2,2)))\n",
    " \n",
    "model.add(Convolution2D(4096, (7, 7), activation='relu'))\n",
    "model.add(Dropout(0.5))\n",
    "model.add(Convolution2D(4096, (1, 1), activation='relu'))\n",
    "model.add(Dropout(0.5))\n",
    "model.add(Convolution2D(2622, (1, 1)))\n",
    "model.add(Flatten())\n",
    "model.add(Activation('softmax'))"
   ]
  },
  {
   "cell_type": "markdown",
   "metadata": {},
   "source": [
    "Download the weights by executing this cell. It requires cURL installed, if you don't have it, download the file from this <a href=\"https://drive.google.com/file/d/1EjKFfz5sOUaZbpHgOo1FBLAUHSQMozp2/view?fbclid=IwAR3Z9jWs9CTAtvxXvweDH19W5XuEiIEb-tQRDHnZFATxAHvVaI-w0cFEc-s\">link</a>"
   ]
  },
  {
   "cell_type": "code",
   "execution_count": 16,
   "metadata": {},
   "outputs": [
    {
     "name": "stdout",
     "output_type": "stream",
     "text": [
      "  % Total    % Received % Xferd  Average Speed   Time    Time     Time  Current\n",
      "                                 Dload  Upload   Total   Spent    Left  Speed\n",
      "100  553M    0  553M    0     0  69.3M      0 --:--:--  0:00:07 --:--:-- 77.3M\n"
     ]
    }
   ],
   "source": [
    "if('vgg_face_weights.h5' not in os.listdir()):\n",
    "    !curl 'https://doc-0c-8s-docs.googleusercontent.com/docs/securesc/irhn5id42n45amehdukhdmveaa64qdca/pcjrmsabniqpn7f43f1hc29oic5su5o8/1546797600000/03047265511933935203/12338030662361016533/1EjKFfz5sOUaZbpHgOo1FBLAUHSQMozp2?e=download&nonce=3e2lits3ba8oo&user=12338030662361016533&hash=r0hqrcivs4pmu08iiludccr8qq8ubbv9' -H 'authority: doc-0c-8s-docs.googleusercontent.com' -H 'upgrade-insecure-requests: 1' -H 'user-agent: Mozilla/5.0 (X11; Linux x86_64) AppleWebKit/537.36 (KHTML, like Gecko) Chrome/70.0.3538.77 Safari/537.36' -H 'accept: text/html,application/xhtml+xml,application/xml;q=0.9,image/webp,image/apng,*/*;q=0.8' -H 'x-client-data: CIa2yQEIprbJAQipncoBCKijygEIv6fKAQiQqMoBCOKoygEY+aXKAQ==' -H 'referer: https://drive.google.com/uc?id=1EjKFfz5sOUaZbpHgOo1FBLAUHSQMozp2&export=download' -H 'accept-encoding: gzip, deflate, br' -H 'accept-language: en-US,en;q=0.9' -H 'cookie: AUTH_7ncsoht60h5nj3290k7ksjvs3qm9agnm_nonce=3e2lits3ba8oo; NID=146=2m64YwK1FU_-wWYEr0N6qIT8KCPul94SVvGNE1YFUODGL-9ZZYgtf0PjHL_TrgeguaQjrWszdcM8aTlORHFViPx5R3pkEaM2uaQDIPyQkNY-ns5aQ0_77DSWxzvulfHWNxRIonT9b28IBORFdd1Cb8nPngy3F8nCQarRxGO2hNM' --compressed --output vgg_face_weights.h5"
   ]
  },
  {
   "cell_type": "code",
   "execution_count": 17,
   "metadata": {},
   "outputs": [],
   "source": [
    "model.load_weights('vgg_face_weights.h5')"
   ]
  },
  {
   "cell_type": "code",
   "execution_count": 18,
   "metadata": {},
   "outputs": [],
   "source": [
    "def preprocess_image(image_path):\n",
    "    img = load_img(image_path, target_size=(224, 224))\n",
    "    img = img_to_array(img)\n",
    "    img = np.expand_dims(img, axis=0)\n",
    "    img = preprocess_input(img)\n",
    "    return img"
   ]
  },
  {
   "cell_type": "code",
   "execution_count": 19,
   "metadata": {},
   "outputs": [],
   "source": [
    "def findCosineSimilarity(source_representation, test_representation):\n",
    "    a = np.matmul(np.transpose(source_representation), test_representation)\n",
    "    b = np.sum(np.multiply(source_representation, source_representation))\n",
    "    c = np.sum(np.multiply(test_representation, test_representation))\n",
    "    return 1 - (a / (np.sqrt(b) * np.sqrt(c)))\n",
    "\n",
    "def findEuclideanDistance(source_representation, test_representation):\n",
    "    euclidean_distance = source_representation - test_representation\n",
    "    euclidean_distance = np.sum(np.multiply(euclidean_distance, euclidean_distance))\n",
    "    euclidean_distance = np.sqrt(euclidean_distance)\n",
    "    return euclidean_distance"
   ]
  },
  {
   "cell_type": "code",
   "execution_count": 20,
   "metadata": {},
   "outputs": [],
   "source": [
    "vgg_face_descriptor = Model(inputs=model.layers[0].input, outputs=model.layers[-2].output)"
   ]
  },
  {
   "cell_type": "code",
   "execution_count": 21,
   "metadata": {},
   "outputs": [],
   "source": [
    "epsilon = 0.25\n",
    "epsilon1=50\n",
    "\n",
    "def verifyFace(img1, img2):\n",
    "    img1_representation = vgg_face_descriptor.predict(preprocess_image(img1))[0,:]\n",
    "    img2_representation = vgg_face_descriptor.predict(preprocess_image(img2))[0,:]\n",
    "    \n",
    "    cosine_similarity = findCosineSimilarity(img1_representation, img2_representation)\n",
    "    euclidean_distance = findEuclideanDistance(img1_representation, img2_representation)\n",
    "    \n",
    "    print(\"Cosine similarity: \",cosine_similarity)\n",
    "    print(\"Euclidean distance: \",euclidean_distance)\n",
    "    \n",
    "    if(cosine_similarity < epsilon) and (euclidean_distance < epsilon1):\n",
    "        print(\"verified... they are same person\")\n",
    "    else:\n",
    "        print(\"unverified! they are not same person!\")\n",
    "    \n",
    "    f = plt.figure()\n",
    "    f.add_subplot(1,2, 1)\n",
    "    plt.imshow(image.load_img(img1))\n",
    "    plt.xticks([]); plt.yticks([])\n",
    "    f.add_subplot(1,2, 2)\n",
    "    plt.imshow(image.load_img(img2))\n",
    "    plt.xticks([]); plt.yticks([])\n",
    "    plt.show(block=True)\n",
    "    print(\"-----------------------------------------\")"
   ]
  },
  {
   "cell_type": "markdown",
   "metadata": {},
   "source": [
    "## SIFT"
   ]
  },
  {
   "cell_type": "markdown",
   "metadata": {},
   "source": [
    "## Minimum Pair Distance (MDP)"
   ]
  },
  {
   "cell_type": "code",
   "execution_count": 22,
   "metadata": {},
   "outputs": [],
   "source": [
    "def MDP(img1, img2):\n",
    "\n",
    "    sift = cv2.xfeatures2d.SIFT_create()\n",
    "    \n",
    "    kp1, des1 = sift.detectAndCompute(img1,None)\n",
    "\n",
    "    kp2, des2 = sift.detectAndCompute(img2,None)\n",
    "\n",
    "    # create BFMatcher object\n",
    "    bf = cv2.BFMatcher(cv2.NORM_L2, crossCheck=True)\n",
    "\n",
    "    # Match descriptors.\n",
    "    matches = bf.match(des1,des2)\n",
    "\n",
    "    min_dist = np.min([matches[i].distance for i in range(len(matches))])\n",
    "    \n",
    "    return min_dist"
   ]
  },
  {
   "cell_type": "markdown",
   "metadata": {},
   "source": [
    "## Regular Grid (RG)\n",
    "_We will not use this method for comparison_"
   ]
  },
  {
   "cell_type": "code",
   "execution_count": 92,
   "metadata": {},
   "outputs": [],
   "source": [
    "def RG(img1, img2):\n",
    "    \n",
    "    x,y = img1.shape\n",
    "    \n",
    "    x = np.int(x/4)\n",
    "    \n",
    "    y = np.int(y/2)\n",
    "    \n",
    "    i = 0\n",
    "    \n",
    "    min_dist = []\n",
    "    \n",
    "    while(x+i < img1.shape[0]):\n",
    "        \n",
    "        j = 0\n",
    "        \n",
    "        while(y+j < img1.shape[1]):\n",
    "            \n",
    "            min_dist.append(MDP(img1[i:x + i,j:y+j],img2[i:x + i,j:y+j]))\n",
    "            \n",
    "            \n",
    "            j = np.int(j + 0.75*y)\n",
    "            \n",
    "        i = np.int(i +0.75*x)    \n",
    "            \n",
    "    return np.mean(min_dist)"
   ]
  },
  {
   "cell_type": "markdown",
   "metadata": {},
   "source": [
    "## Results"
   ]
  },
  {
   "cell_type": "markdown",
   "metadata": {},
   "source": [
    "__Siamese network__"
   ]
  },
  {
   "cell_type": "code",
   "execution_count": 23,
   "metadata": {},
   "outputs": [
    {
     "ename": "FileNotFoundError",
     "evalue": "[Errno 2] No such file or directory: 'Image2/Test/Abid_Hamid_Mahmud_Al-Tikriti_0002.jpg'",
     "output_type": "error",
     "traceback": [
      "\u001b[0;31m---------------------------------------------------------------------------\u001b[0m",
      "\u001b[0;31mFileNotFoundError\u001b[0m                         Traceback (most recent call last)",
      "\u001b[0;32m<ipython-input-23-0951081d2d43>\u001b[0m in \u001b[0;36m<module>\u001b[0;34m\u001b[0m\n\u001b[1;32m      3\u001b[0m \u001b[0mbad_matches\u001b[0m \u001b[0;34m=\u001b[0m \u001b[0;36m0\u001b[0m\u001b[0;34m\u001b[0m\u001b[0m\n\u001b[1;32m      4\u001b[0m \u001b[0;32mfor\u001b[0m \u001b[0mimg_name\u001b[0m \u001b[0;32min\u001b[0m \u001b[0mzip\u001b[0m\u001b[0;34m(\u001b[0m\u001b[0mtest_img_names\u001b[0m\u001b[0;34m)\u001b[0m\u001b[0;34m:\u001b[0m\u001b[0;34m\u001b[0m\u001b[0m\n\u001b[0;32m----> 5\u001b[0;31m     \u001b[0mimg1\u001b[0m \u001b[0;34m=\u001b[0m \u001b[0mvgg_face_descriptor\u001b[0m\u001b[0;34m.\u001b[0m\u001b[0mpredict\u001b[0m\u001b[0;34m(\u001b[0m\u001b[0mpreprocess_image\u001b[0m\u001b[0;34m(\u001b[0m\u001b[0mimg_name\u001b[0m\u001b[0;34m[\u001b[0m\u001b[0;36m0\u001b[0m\u001b[0;34m]\u001b[0m\u001b[0;34m)\u001b[0m\u001b[0;34m)\u001b[0m\u001b[0;34m[\u001b[0m\u001b[0;36m0\u001b[0m\u001b[0;34m,\u001b[0m\u001b[0;34m:\u001b[0m\u001b[0;34m]\u001b[0m\u001b[0;34m\u001b[0m\u001b[0m\n\u001b[0m\u001b[1;32m      6\u001b[0m     \u001b[0;32mfor\u001b[0m \u001b[0mname\u001b[0m \u001b[0;32min\u001b[0m \u001b[0mzip\u001b[0m\u001b[0;34m(\u001b[0m\u001b[0mtemplate_img_names\u001b[0m\u001b[0;34m)\u001b[0m\u001b[0;34m:\u001b[0m\u001b[0;34m\u001b[0m\u001b[0m\n\u001b[1;32m      7\u001b[0m         \u001b[0mimg2\u001b[0m \u001b[0;34m=\u001b[0m \u001b[0mvgg_face_descriptor\u001b[0m\u001b[0;34m.\u001b[0m\u001b[0mpredict\u001b[0m\u001b[0;34m(\u001b[0m\u001b[0mpreprocess_image\u001b[0m\u001b[0;34m(\u001b[0m\u001b[0mname\u001b[0m\u001b[0;34m[\u001b[0m\u001b[0;36m0\u001b[0m\u001b[0;34m]\u001b[0m\u001b[0;34m)\u001b[0m\u001b[0;34m)\u001b[0m\u001b[0;34m[\u001b[0m\u001b[0;36m0\u001b[0m\u001b[0;34m,\u001b[0m\u001b[0;34m:\u001b[0m\u001b[0;34m]\u001b[0m\u001b[0;34m\u001b[0m\u001b[0m\n",
      "\u001b[0;32m<ipython-input-18-ce49c6824261>\u001b[0m in \u001b[0;36mpreprocess_image\u001b[0;34m(image_path)\u001b[0m\n\u001b[1;32m      1\u001b[0m \u001b[0;32mdef\u001b[0m \u001b[0mpreprocess_image\u001b[0m\u001b[0;34m(\u001b[0m\u001b[0mimage_path\u001b[0m\u001b[0;34m)\u001b[0m\u001b[0;34m:\u001b[0m\u001b[0;34m\u001b[0m\u001b[0m\n\u001b[0;32m----> 2\u001b[0;31m     \u001b[0mimg\u001b[0m \u001b[0;34m=\u001b[0m \u001b[0mload_img\u001b[0m\u001b[0;34m(\u001b[0m\u001b[0mimage_path\u001b[0m\u001b[0;34m,\u001b[0m \u001b[0mtarget_size\u001b[0m\u001b[0;34m=\u001b[0m\u001b[0;34m(\u001b[0m\u001b[0;36m224\u001b[0m\u001b[0;34m,\u001b[0m \u001b[0;36m224\u001b[0m\u001b[0;34m)\u001b[0m\u001b[0;34m)\u001b[0m\u001b[0;34m\u001b[0m\u001b[0m\n\u001b[0m\u001b[1;32m      3\u001b[0m     \u001b[0mimg\u001b[0m \u001b[0;34m=\u001b[0m \u001b[0mimg_to_array\u001b[0m\u001b[0;34m(\u001b[0m\u001b[0mimg\u001b[0m\u001b[0;34m)\u001b[0m\u001b[0;34m\u001b[0m\u001b[0m\n\u001b[1;32m      4\u001b[0m     \u001b[0mimg\u001b[0m \u001b[0;34m=\u001b[0m \u001b[0mnp\u001b[0m\u001b[0;34m.\u001b[0m\u001b[0mexpand_dims\u001b[0m\u001b[0;34m(\u001b[0m\u001b[0mimg\u001b[0m\u001b[0;34m,\u001b[0m \u001b[0maxis\u001b[0m\u001b[0;34m=\u001b[0m\u001b[0;36m0\u001b[0m\u001b[0;34m)\u001b[0m\u001b[0;34m\u001b[0m\u001b[0m\n\u001b[1;32m      5\u001b[0m     \u001b[0mimg\u001b[0m \u001b[0;34m=\u001b[0m \u001b[0mpreprocess_input\u001b[0m\u001b[0;34m(\u001b[0m\u001b[0mimg\u001b[0m\u001b[0;34m)\u001b[0m\u001b[0;34m\u001b[0m\u001b[0m\n",
      "\u001b[0;32m~/anaconda3/lib/python3.6/site-packages/keras_preprocessing/image.py\u001b[0m in \u001b[0;36mload_img\u001b[0;34m(path, grayscale, color_mode, target_size, interpolation)\u001b[0m\n\u001b[1;32m    496\u001b[0m         raise ImportError('Could not import PIL.Image. '\n\u001b[1;32m    497\u001b[0m                           'The use of `array_to_img` requires PIL.')\n\u001b[0;32m--> 498\u001b[0;31m     \u001b[0mimg\u001b[0m \u001b[0;34m=\u001b[0m \u001b[0mpil_image\u001b[0m\u001b[0;34m.\u001b[0m\u001b[0mopen\u001b[0m\u001b[0;34m(\u001b[0m\u001b[0mpath\u001b[0m\u001b[0;34m)\u001b[0m\u001b[0;34m\u001b[0m\u001b[0m\n\u001b[0m\u001b[1;32m    499\u001b[0m     \u001b[0;32mif\u001b[0m \u001b[0mcolor_mode\u001b[0m \u001b[0;34m==\u001b[0m \u001b[0;34m'grayscale'\u001b[0m\u001b[0;34m:\u001b[0m\u001b[0;34m\u001b[0m\u001b[0m\n\u001b[1;32m    500\u001b[0m         \u001b[0;32mif\u001b[0m \u001b[0mimg\u001b[0m\u001b[0;34m.\u001b[0m\u001b[0mmode\u001b[0m \u001b[0;34m!=\u001b[0m \u001b[0;34m'L'\u001b[0m\u001b[0;34m:\u001b[0m\u001b[0;34m\u001b[0m\u001b[0m\n",
      "\u001b[0;32m~/anaconda3/lib/python3.6/site-packages/PIL/Image.py\u001b[0m in \u001b[0;36mopen\u001b[0;34m(fp, mode)\u001b[0m\n\u001b[1;32m   2280\u001b[0m \u001b[0;34m\u001b[0m\u001b[0m\n\u001b[1;32m   2281\u001b[0m     \u001b[0;32mif\u001b[0m \u001b[0mfilename\u001b[0m\u001b[0;34m:\u001b[0m\u001b[0;34m\u001b[0m\u001b[0m\n\u001b[0;32m-> 2282\u001b[0;31m         \u001b[0mfp\u001b[0m \u001b[0;34m=\u001b[0m \u001b[0mbuiltins\u001b[0m\u001b[0;34m.\u001b[0m\u001b[0mopen\u001b[0m\u001b[0;34m(\u001b[0m\u001b[0mfilename\u001b[0m\u001b[0;34m,\u001b[0m \u001b[0;34m\"rb\"\u001b[0m\u001b[0;34m)\u001b[0m\u001b[0;34m\u001b[0m\u001b[0m\n\u001b[0m\u001b[1;32m   2283\u001b[0m \u001b[0;34m\u001b[0m\u001b[0m\n\u001b[1;32m   2284\u001b[0m     \u001b[0;32mtry\u001b[0m\u001b[0;34m:\u001b[0m\u001b[0;34m\u001b[0m\u001b[0m\n",
      "\u001b[0;31mFileNotFoundError\u001b[0m: [Errno 2] No such file or directory: 'Image2/Test/Abid_Hamid_Mahmud_Al-Tikriti_0002.jpg'"
     ]
    }
   ],
   "source": [
    "threshold = 0.25\n",
    "good_matches = 0\n",
    "bad_matches = 0\n",
    "for img_name in zip(test_img_names):\n",
    "    img1 = vgg_face_descriptor.predict(preprocess_image(img_name[0]))[0,:]\n",
    "    for name in zip(template_img_names):\n",
    "        img2 = vgg_face_descriptor.predict(preprocess_image(name[0]))[0,:]\n",
    "        if((findCosineSimilarity(img1,img2) <= threshold and img_name[0].split(\"/\")[-1][:-9] == name[0].split(\"/\")[-1][:-9]) or (findCosineSimilarity(img1,img2) > threshold and img_name[0].split(\"/\")[-1][:-9] != name[0].split(\"/\")[-1][:-9])):\n",
    "            good_matches +=1\n",
    "            \n",
    "        else:\n",
    "            bad_matches +=1"
   ]
  },
  {
   "cell_type": "code",
   "execution_count": 49,
   "metadata": {},
   "outputs": [
    {
     "data": {
      "text/plain": [
       "(0.9548611111111112, 0.04513888888888889)"
      ]
     },
     "execution_count": 49,
     "metadata": {},
     "output_type": "execute_result"
    }
   ],
   "source": [
    "good_matches/(good_matches+bad_matches),bad_matches/(good_matches+bad_matches)"
   ]
  },
  {
   "cell_type": "markdown",
   "metadata": {},
   "source": [
    "__SIFT__"
   ]
  },
  {
   "cell_type": "code",
   "execution_count": 24,
   "metadata": {},
   "outputs": [],
   "source": [
    "threshold = 30\n",
    "good_matches = 0\n",
    "bad_matches = 0\n",
    "for img,img_name in zip(test_imgs,test_img_names):\n",
    "    \n",
    "    for i,name in zip(template_imgs,template_img_names):\n",
    "        \n",
    "        if((MDP(img,i) <= 30 and img_name.split(\"/\")[-1][:-9] == name.split(\"/\")[-1][:-9]) or (MDP(img,i) > 30 and img_name.split(\"/\")[-1][:-9] != name.split(\"/\")[-1][:-9])):\n",
    "            good_matches +=1\n",
    "            \n",
    "        else:\n",
    "#             print(img_name,name,MDP(img,i))\n",
    "            bad_matches +=1"
   ]
  },
  {
   "cell_type": "code",
   "execution_count": 25,
   "metadata": {},
   "outputs": [
    {
     "data": {
      "text/plain": [
       "(0.9714285714285714, 0.02857142857142857)"
      ]
     },
     "execution_count": 25,
     "metadata": {},
     "output_type": "execute_result"
    }
   ],
   "source": [
    "good_matches/(good_matches+bad_matches),bad_matches/(good_matches+bad_matches)"
   ]
  },
  {
   "cell_type": "markdown",
   "metadata": {},
   "source": [
    "<div class=\"alert alert-success\">\n",
    "\n",
    "<h2>  Resistance to the Change of Contrast</h2>\n",
    "</div>"
   ]
  },
  {
   "cell_type": "markdown",
   "metadata": {},
   "source": [
    "## Siamese network"
   ]
  },
  {
   "cell_type": "code",
   "execution_count": 53,
   "metadata": {},
   "outputs": [],
   "source": [
    "from PIL import Image\n",
    "\n",
    "\n",
    "def change_contrast(img, level):\n",
    "\n",
    "    img = Image.open(img)\n",
    "    img.load()\n",
    "\n",
    "    factor = (259 * (level+255)) / (255 * (259-level))\n",
    "    for x in range(img.size[0]):\n",
    "        for y in range(img.size[1]):\n",
    "            color = img.getpixel((x, y))\n",
    "            new_color = tuple(int(factor * (c-128) + 128) for c in color)\n",
    "            img.putpixel((x, y), new_color)\n",
    "\n",
    "    return img"
   ]
  },
  {
   "cell_type": "code",
   "execution_count": 58,
   "metadata": {},
   "outputs": [],
   "source": [
    "#for file in glob.glob(\"Image2/Test/*\"):\n",
    " #   result=change_contrast(file, 100)\n",
    "  #  result.save('Image2/Contrast/'+file[12:])"
   ]
  },
  {
   "cell_type": "code",
   "execution_count": 76,
   "metadata": {},
   "outputs": [],
   "source": [
    "threshold = 0.25\n",
    "good_matches = 0\n",
    "bad_matches = 0\n",
    "for img_name in zip(contrast_img_names):\n",
    "    img1 = vgg_face_descriptor.predict(preprocess_image(img_name[0]))[0,:]\n",
    "    for name in zip(template_img_names):\n",
    "        img2 = vgg_face_descriptor.predict(preprocess_image(name[0]))[0,:]\n",
    "        if((findCosineSimilarity(img1,img2) <= threshold and img_name[0].split(\"/\")[-1][:-9] == name[0].split(\"/\")[-1][:-9]) or (findCosineSimilarity(img1,img2) > threshold and img_name[0].split(\"/\")[-1][:-9] != name[0].split(\"/\")[-1][:-9])):\n",
    "            good_matches +=1\n",
    "            \n",
    "        else:\n",
    "#             print(img_name,name,MDP(img,i))\n",
    "            bad_matches +=1"
   ]
  },
  {
   "cell_type": "code",
   "execution_count": 77,
   "metadata": {},
   "outputs": [
    {
     "data": {
      "text/plain": [
       "(0.9522569444444444, 0.04774305555555555)"
      ]
     },
     "execution_count": 77,
     "metadata": {},
     "output_type": "execute_result"
    }
   ],
   "source": [
    "good_matches/(good_matches+bad_matches),bad_matches/(good_matches+bad_matches)"
   ]
  },
  {
   "cell_type": "markdown",
   "metadata": {},
   "source": [
    "__SIFT__"
   ]
  },
  {
   "cell_type": "code",
   "execution_count": 106,
   "metadata": {},
   "outputs": [],
   "source": [
    "threshold = 30\n",
    "good_matches = 0\n",
    "bad_matches = 0\n",
    "for img,img_name in zip(contrast_imgs,contrast_img_names):\n",
    "    \n",
    "    for i,name in zip(template_imgs,template_img_names):\n",
    "        \n",
    "        if((MDP(img,i) <= 30 and img_name.split(\"/\")[-1][:-9] == name.split(\"/\")[-1][:-9]) or (MDP(img,i) > 30 and img_name.split(\"/\")[-1][:-9] != name.split(\"/\")[-1][:-9])):\n",
    "            good_matches +=1\n",
    "            \n",
    "        else:\n",
    "            bad_matches +=1"
   ]
  },
  {
   "cell_type": "code",
   "execution_count": 107,
   "metadata": {},
   "outputs": [
    {
     "data": {
      "text/plain": [
       "(0.9583333333333334, 0.041666666666666664)"
      ]
     },
     "execution_count": 107,
     "metadata": {},
     "output_type": "execute_result"
    }
   ],
   "source": [
    "good_matches/(good_matches+bad_matches),bad_matches/(good_matches+bad_matches)"
   ]
  },
  {
   "cell_type": "markdown",
   "metadata": {},
   "source": [
    "<div class=\"alert alert-success\">\n",
    "\n",
    "<h2>  Resistance to  Rotation</h2>\n",
    "</div>"
   ]
  },
  {
   "cell_type": "markdown",
   "metadata": {},
   "source": [
    "__Siamese network__"
   ]
  },
  {
   "cell_type": "code",
   "execution_count": 78,
   "metadata": {},
   "outputs": [],
   "source": [
    "from PIL import Image\n",
    "#for file in  glob.glob(\"Image2/Test/*\"):\n",
    " #   im = Image.open(file)\n",
    "  #  im1=im.rotate(30)\n",
    "   # im1.save(\"Image2/Rotation/\"+file[12:])"
   ]
  },
  {
   "cell_type": "code",
   "execution_count": 81,
   "metadata": {},
   "outputs": [],
   "source": [
    "threshold = 0.25\n",
    "good_matches = 0\n",
    "bad_matches = 0\n",
    "for img_name in zip(rotation_img_names):\n",
    "    img1 = vgg_face_descriptor.predict(preprocess_image(img_name[0]))[0,:]\n",
    "    for name in zip(template_img_names):\n",
    "        img2 = vgg_face_descriptor.predict(preprocess_image(name[0]))[0,:]\n",
    "        if((findCosineSimilarity(img1,img2) <= threshold and img_name[0].split(\"/\")[-1][:-9] == name[0].split(\"/\")[-1][:-9]) or (findCosineSimilarity(img1,img2) > threshold and img_name[0].split(\"/\")[-1][:-9] != name[0].split(\"/\")[-1][:-9])):\n",
    "            good_matches +=1\n",
    "            \n",
    "        else:\n",
    "#             print(img_name,name,MDP(img,i))\n",
    "            bad_matches +=1"
   ]
  },
  {
   "cell_type": "code",
   "execution_count": 82,
   "metadata": {},
   "outputs": [
    {
     "data": {
      "text/plain": [
       "(0.9661458333333334, 0.033854166666666664)"
      ]
     },
     "execution_count": 82,
     "metadata": {},
     "output_type": "execute_result"
    }
   ],
   "source": [
    "good_matches/(good_matches+bad_matches),bad_matches/(good_matches+bad_matches)"
   ]
  },
  {
   "cell_type": "markdown",
   "metadata": {},
   "source": [
    "__SIFT__"
   ]
  },
  {
   "cell_type": "code",
   "execution_count": 108,
   "metadata": {},
   "outputs": [],
   "source": [
    "threshold = 30\n",
    "good_matches = 0\n",
    "bad_matches = 0\n",
    "for img,img_name in zip(rotation_imgs,rotation_img_names):\n",
    "    \n",
    "    for i,name in zip(template_imgs,template_img_names):\n",
    "        \n",
    "        if((MDP(img,i) <= 30 and img_name.split(\"/\")[-1][:-9] == name.split(\"/\")[-1][:-9]) or (MDP(img,i) > 30 and img_name.split(\"/\")[-1][:-9] != name.split(\"/\")[-1][:-9])):\n",
    "            good_matches +=1\n",
    "            \n",
    "        else:\n",
    "            bad_matches +=1"
   ]
  },
  {
   "cell_type": "code",
   "execution_count": 109,
   "metadata": {},
   "outputs": [
    {
     "data": {
      "text/plain": [
       "(0.9583333333333334, 0.041666666666666664)"
      ]
     },
     "execution_count": 109,
     "metadata": {},
     "output_type": "execute_result"
    }
   ],
   "source": [
    "good_matches/(good_matches+bad_matches),bad_matches/(good_matches+bad_matches)"
   ]
  },
  {
   "cell_type": "markdown",
   "metadata": {},
   "source": [
    "<div class=\"alert alert-success\">\n",
    "\n",
    "<h2>  Resistance to brightness</h2>\n",
    "</div>"
   ]
  },
  {
   "cell_type": "markdown",
   "metadata": {},
   "source": [
    "## Siamese network"
   ]
  },
  {
   "cell_type": "code",
   "execution_count": 85,
   "metadata": {},
   "outputs": [],
   "source": [
    "from PIL import Image, ImageEnhance \n",
    "#for file in  glob.glob(\"Image2/Test/*\"):\n",
    " #   enhancer = ImageEnhance.Brightness(im)\n",
    "  #  enhanced_im = enhancer.enhance(1.8)\n",
    "   # enhanced_im.save(\"Image2/Brightness/\"+file[12:])"
   ]
  },
  {
   "cell_type": "code",
   "execution_count": 88,
   "metadata": {},
   "outputs": [],
   "source": [
    "threshold = 0.25\n",
    "good_matches = 0\n",
    "bad_matches = 0\n",
    "for img_name in zip(bright_img_names):\n",
    "    img1 = vgg_face_descriptor.predict(preprocess_image(img_name[0]))[0,:]\n",
    "    for name in zip(template_img_names):\n",
    "        img2 = vgg_face_descriptor.predict(preprocess_image(name[0]))[0,:]\n",
    "        if((findCosineSimilarity(img1,img2) <= threshold and img_name[0].split(\"/\")[-1][:-9] == name[0].split(\"/\")[-1][:-9]) or (findCosineSimilarity(img1,img2) > threshold and img_name[0].split(\"/\")[-1][:-9] != name[0].split(\"/\")[-1][:-9])):\n",
    "            good_matches +=1\n",
    "            \n",
    "        else:\n",
    "#             print(img_name,name,MDP(img,i))\n",
    "            bad_matches +=1"
   ]
  },
  {
   "cell_type": "code",
   "execution_count": 89,
   "metadata": {},
   "outputs": [
    {
     "data": {
      "text/plain": [
       "(0.9392361111111112, 0.06076388888888889)"
      ]
     },
     "execution_count": 89,
     "metadata": {},
     "output_type": "execute_result"
    }
   ],
   "source": [
    "good_matches/(good_matches+bad_matches),bad_matches/(good_matches+bad_matches)"
   ]
  },
  {
   "cell_type": "markdown",
   "metadata": {},
   "source": [
    "## SIFT"
   ]
  },
  {
   "cell_type": "code",
   "execution_count": 110,
   "metadata": {},
   "outputs": [],
   "source": [
    "threshold = 30\n",
    "good_matches = 0\n",
    "bad_matches = 0\n",
    "for img,img_name in zip(bright_imgs,bright_img_names):\n",
    "    \n",
    "    for i,name in zip(template_imgs,template_img_names):\n",
    "        \n",
    "        if((MDP(img,i) <= 30 and img_name.split(\"/\")[-1][:-9] == name.split(\"/\")[-1][:-9]) or (MDP(img,i) > 30 and img_name.split(\"/\")[-1][:-9] != name.split(\"/\")[-1][:-9])):\n",
    "            good_matches +=1\n",
    "            \n",
    "        else:\n",
    "#             print(img_name,name,MDP(img,i))\n",
    "            bad_matches +=1"
   ]
  },
  {
   "cell_type": "code",
   "execution_count": 111,
   "metadata": {},
   "outputs": [
    {
     "data": {
      "text/plain": [
       "(0.9583333333333334, 0.041666666666666664)"
      ]
     },
     "execution_count": 111,
     "metadata": {},
     "output_type": "execute_result"
    }
   ],
   "source": [
    "good_matches/(good_matches+bad_matches),bad_matches/(good_matches+bad_matches)"
   ]
  },
  {
   "cell_type": "code",
   "execution_count": null,
   "metadata": {},
   "outputs": [],
   "source": []
  }
 ],
 "metadata": {
  "kernelspec": {
   "display_name": "Python 3",
   "language": "python",
   "name": "python3"
  },
  "language_info": {
   "codemirror_mode": {
    "name": "ipython",
    "version": 3
   },
   "file_extension": ".py",
   "mimetype": "text/x-python",
   "name": "python",
   "nbconvert_exporter": "python",
   "pygments_lexer": "ipython3",
   "version": "3.6.0"
  }
 },
 "nbformat": 4,
 "nbformat_minor": 2
}
