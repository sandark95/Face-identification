{
 "cells": [
  {
   "cell_type": "markdown",
   "metadata": {},
   "source": [
    "## Imports"
   ]
  },
  {
   "cell_type": "code",
   "execution_count": 265,
   "metadata": {},
   "outputs": [],
   "source": [
    "from zipfile import ZipFile\n",
    "import cv2\n",
    "from PIL import Image\n",
    "import numpy as np\n",
    "from matplotlib import pyplot as plt\n",
    "import os\n",
    "import re"
   ]
  },
  {
   "cell_type": "markdown",
   "metadata": {},
   "source": [
    "## Data Preparation"
   ]
  },
  {
   "cell_type": "code",
   "execution_count": 266,
   "metadata": {},
   "outputs": [],
   "source": [
    "def read_images(filename,preprocess = True):\n",
    "    \n",
    "    filename = filename\n",
    "    \n",
    "    imgs = []\n",
    "    \n",
    "    img_names = []\n",
    "    \n",
    "    clahe = cv2.createCLAHE(clipLimit=2.0, tileGridSize=(8,8))\n",
    "    \n",
    "    with ZipFile(filename) as archive:\n",
    "        for count, entry in enumerate(archive.infolist()):\n",
    "            with archive.open(entry) as file:\n",
    "                if(file.name.endswith(\"jpg\") or file.name.endswith(\"png\")):\n",
    "                    \n",
    "                    img = np.array(Image.open(file).convert('L'))\n",
    "\n",
    "                    if(preprocess):\n",
    "               \n",
    "                        img = clahe.apply(img)\n",
    "\n",
    "                    imgs.append(img)\n",
    "                    \n",
    "                    img_names.append(file.name)\n",
    "\n",
    "    return imgs,img_names"
   ]
  },
  {
   "cell_type": "code",
   "execution_count": 267,
   "metadata": {},
   "outputs": [],
   "source": [
    "template_imgs = []\n",
    "\n",
    "template_img_names = []\n",
    "\n",
    "test_imgs = []\n",
    "\n",
    "test_img_names = []\n",
    "\n",
    "for item in os.listdir():\n",
    "    \n",
    "    if(item.endswith(\"zip\")):\n",
    "        \n",
    "        if(item != \"Test.zip\"):\n",
    "            \n",
    "            tmp,tmp1 = read_images(item)\n",
    "\n",
    "            template_imgs += tmp\n",
    "\n",
    "            template_img_names += tmp1\n",
    "\n",
    "        else :\n",
    "\n",
    "            tmp,tmp1 = read_images(item)\n",
    "\n",
    "            test_imgs += tmp\n",
    "\n",
    "            test_img_names += tmp1\n",
    "        \n",
    "test_imgs = np.array(test_imgs)\n",
    "template_imgs = np.array(template_imgs)"
   ]
  },
  {
   "cell_type": "code",
   "execution_count": 268,
   "metadata": {},
   "outputs": [
    {
     "data": {
      "text/plain": [
       "((24, 250, 250), (96, 250, 250))"
      ]
     },
     "execution_count": 268,
     "metadata": {},
     "output_type": "execute_result"
    }
   ],
   "source": [
    "test_imgs.shape,template_imgs.shape"
   ]
  },
  {
   "cell_type": "markdown",
   "metadata": {},
   "source": [
    "## Minimum Pair Distance (MDP)"
   ]
  },
  {
   "cell_type": "code",
   "execution_count": 269,
   "metadata": {},
   "outputs": [],
   "source": [
    "def MDP(img1, img2):\n",
    "\n",
    "    sift = cv2.xfeatures2d.SIFT_create()\n",
    "    \n",
    "    kp1, des1 = sift.detectAndCompute(img1,None)\n",
    "\n",
    "    kp2, des2 = sift.detectAndCompute(img2,None)\n",
    "\n",
    "    # create BFMatcher object\n",
    "    bf = cv2.BFMatcher(cv2.NORM_L2, crossCheck=True)\n",
    "\n",
    "    # Match descriptors.\n",
    "    matches = bf.match(des1,des2)\n",
    "\n",
    "    min_dist = np.min([matches[i].distance for i in range(len(matches))])\n",
    "    \n",
    "#     matches = sorted(matches, key = lambda x:x.distance)\n",
    "\n",
    "# # Draw first 10 matches.\n",
    "#     img3 = cv2.drawMatches(img1,kp1,img2,kp2,matches, img1)\n",
    "\n",
    "#     plt.imshow(img3),plt.show()\n",
    "\n",
    "    return min_dist"
   ]
  },
  {
   "cell_type": "markdown",
   "metadata": {},
   "source": [
    "## Regular Grid (RG)"
   ]
  },
  {
   "cell_type": "code",
   "execution_count": 270,
   "metadata": {},
   "outputs": [],
   "source": [
    "def RG(img1, img2):\n",
    "    \n",
    "    x,y = img1.shape\n",
    "    \n",
    "    x = np.int(x/4)\n",
    "    \n",
    "    y = np.int(y/2)\n",
    "    \n",
    "    i = 0\n",
    "    \n",
    "    min_dist = []\n",
    "    \n",
    "    while(x+i < img1.shape[0]):\n",
    "        \n",
    "        j = 0\n",
    "        \n",
    "        while(y+j < img1.shape[1]):\n",
    "            \n",
    "            min_dist.append(MDP(img1[i:x + i,j:y+j],img2[i:x + i,j:y+j]))\n",
    "            \n",
    "            \n",
    "            j = np.int(j + 0.75*y)\n",
    "            \n",
    "        i = np.int(i +0.75*x)    \n",
    "            \n",
    "    return np.mean(min_dist)\n",
    "    "
   ]
  },
  {
   "cell_type": "markdown",
   "metadata": {},
   "source": [
    "## Evaluation"
   ]
  },
  {
   "cell_type": "code",
   "execution_count": 271,
   "metadata": {},
   "outputs": [],
   "source": [
    "threshold = 30\n",
    "good_matches = 0\n",
    "bad_matches = 0\n",
    "for img,img_name in zip(test_imgs,test_img_names):\n",
    "    \n",
    "    for i,name in zip(template_imgs,template_img_names):\n",
    "        \n",
    "        if((MDP(img,i) <= 30 and img_name.split(\"/\")[-1] == name.split(\"/\")[-1]) or (MDP(img,i) > 30 and img_name.split(\"/\")[-1] != name.split(\"/\")[-1])):\n",
    "            good_matches +=1\n",
    "            \n",
    "        else:\n",
    "#             print(img_name,name,MDP(img,i))\n",
    "            bad_matches +=1\n",
    "            "
   ]
  },
  {
   "cell_type": "code",
   "execution_count": 272,
   "metadata": {},
   "outputs": [
    {
     "data": {
      "text/plain": [
       "(0.9895833333333334, 0.010416666666666666)"
      ]
     },
     "execution_count": 272,
     "metadata": {},
     "output_type": "execute_result"
    }
   ],
   "source": [
    "good_matches/(good_matches+bad_matches),bad_matches/(good_matches+bad_matches)"
   ]
  },
  {
   "cell_type": "code",
   "execution_count": 273,
   "metadata": {},
   "outputs": [],
   "source": [
    "# [i for i in range(len(test_img_names)) if test_img_names[i] == \"Image2/Test/Aaron_Peirsol_0002.jpg\"]"
   ]
  },
  {
   "cell_type": "code",
   "execution_count": 274,
   "metadata": {},
   "outputs": [],
   "source": [
    "# MDP(test_imgs[18],template_imgs[14]),MDP(test_imgs[18],template_imgs[0])"
   ]
  },
  {
   "cell_type": "code",
   "execution_count": 275,
   "metadata": {},
   "outputs": [
    {
     "data": {
      "text/plain": [
       "(2280, 24)"
      ]
     },
     "execution_count": 275,
     "metadata": {},
     "output_type": "execute_result"
    }
   ],
   "source": [
    "good_matches,bad_matches"
   ]
  },
  {
   "cell_type": "code",
   "execution_count": null,
   "metadata": {},
   "outputs": [],
   "source": []
  }
 ],
 "metadata": {
  "kernelspec": {
   "display_name": "Python 3",
   "language": "python",
   "name": "python3"
  },
  "language_info": {
   "codemirror_mode": {
    "name": "ipython",
    "version": 3
   },
   "file_extension": ".py",
   "mimetype": "text/x-python",
   "name": "python",
   "nbconvert_exporter": "python",
   "pygments_lexer": "ipython3",
   "version": "3.6.0"
  }
 },
 "nbformat": 4,
 "nbformat_minor": 2
}
