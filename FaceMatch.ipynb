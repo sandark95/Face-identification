{
 "cells": [
  {
   "cell_type": "code",
   "execution_count": 12,
   "metadata": {},
   "outputs": [],
   "source": [
    "from keras.models import Model, Sequential\n",
    "from keras.layers import Input, Convolution2D, ZeroPadding2D, MaxPooling2D, Flatten, Dense, Dropout, Activation\n",
    "from PIL import Image\n",
    "import numpy as np\n",
    "from keras.preprocessing.image import load_img, save_img, img_to_array\n",
    "from keras.applications.imagenet_utils import preprocess_input\n",
    "from keras.preprocessing import image\n",
    "import matplotlib.pyplot as plt\n",
    "import os\n",
    "import glob"
   ]
  },
  {
   "cell_type": "code",
   "execution_count": 13,
   "metadata": {},
   "outputs": [],
   "source": [
    "model = Sequential()\n",
    "model.add(ZeroPadding2D((1,1),input_shape=(224,224, 3)))\n",
    "model.add(Convolution2D(64, (3, 3), activation='relu'))\n",
    "model.add(ZeroPadding2D((1,1)))\n",
    "model.add(Convolution2D(64, (3, 3), activation='relu'))\n",
    "model.add(MaxPooling2D((2,2), strides=(2,2)))\n",
    " \n",
    "model.add(ZeroPadding2D((1,1)))\n",
    "model.add(Convolution2D(128, (3, 3), activation='relu'))\n",
    "model.add(ZeroPadding2D((1,1)))\n",
    "model.add(Convolution2D(128, (3, 3), activation='relu'))\n",
    "model.add(MaxPooling2D((2,2), strides=(2,2)))\n",
    " \n",
    "model.add(ZeroPadding2D((1,1)))\n",
    "model.add(Convolution2D(256, (3, 3), activation='relu'))\n",
    "model.add(ZeroPadding2D((1,1)))\n",
    "model.add(Convolution2D(256, (3, 3), activation='relu'))\n",
    "model.add(ZeroPadding2D((1,1)))\n",
    "model.add(Convolution2D(256, (3, 3), activation='relu'))\n",
    "model.add(MaxPooling2D((2,2), strides=(2,2)))\n",
    " \n",
    "model.add(ZeroPadding2D((1,1)))\n",
    "model.add(Convolution2D(512, (3, 3), activation='relu'))\n",
    "model.add(ZeroPadding2D((1,1)))\n",
    "model.add(Convolution2D(512, (3, 3), activation='relu'))\n",
    "model.add(ZeroPadding2D((1,1)))\n",
    "model.add(Convolution2D(512, (3, 3), activation='relu'))\n",
    "model.add(MaxPooling2D((2,2), strides=(2,2)))\n",
    " \n",
    "model.add(ZeroPadding2D((1,1)))\n",
    "model.add(Convolution2D(512, (3, 3), activation='relu'))\n",
    "model.add(ZeroPadding2D((1,1)))\n",
    "model.add(Convolution2D(512, (3, 3), activation='relu'))\n",
    "model.add(ZeroPadding2D((1,1)))\n",
    "model.add(Convolution2D(512, (3, 3), activation='relu'))\n",
    "model.add(MaxPooling2D((2,2), strides=(2,2)))\n",
    " \n",
    "model.add(Convolution2D(4096, (7, 7), activation='relu'))\n",
    "model.add(Dropout(0.5))\n",
    "model.add(Convolution2D(4096, (1, 1), activation='relu'))\n",
    "model.add(Dropout(0.5))\n",
    "model.add(Convolution2D(2622, (1, 1)))\n",
    "model.add(Flatten())\n",
    "model.add(Activation('softmax'))"
   ]
  },
  {
   "cell_type": "code",
   "execution_count": 14,
   "metadata": {},
   "outputs": [],
   "source": [
    "if('vgg_face_weights.h5' not in os.listdir()):\n",
    "    ! curl 'https://doc-0c-8s-docs.googleusercontent.com/docs/securesc/irhn5id42n45amehdukhdmveaa64qdca/78jdc6cfpa01k3rfd1g4bcro06lg7fdl/1546164000000/03047265511933935203/12338030662361016533/1EjKFfz5sOUaZbpHgOo1FBLAUHSQMozp2?e=download' -H 'authority: doc-0c-8s-docs.googleusercontent.com' -H 'upgrade-insecure-requests: 1' -H 'user-agent: Mozilla/5.0 (X11; Linux x86_64) AppleWebKit/537.36 (KHTML, like Gecko) Chrome/70.0.3538.77 Safari/537.36' -H 'accept: text/html,application/xhtml+xml,application/xml;q=0.9,image/webp,image/apng,*/*;q=0.8' -H 'x-client-data: CIa2yQEIprbJAQipncoBCKijygEIv6fKAQiQqMoBCOKoygEY+aXKAQ==' -H 'referer: https://drive.google.com/uc?id=1EjKFfz5sOUaZbpHgOo1FBLAUHSQMozp2&export=download' -H 'accept-encoding: gzip, deflate, br' -H 'accept-language: en-US,en;q=0.9' -H 'cookie: AUTH_7ncsoht60h5nj3290k7ksjvs3qm9agnm=12338030662361016533|1546164000000|46nr507ig78rucsnahilkdikjfpvkg8d; NID=146=2m64YwK1FU_-wWYEr0N6qIT8KCPul94SVvGNE1YFUODGL-9ZZYgtf0PjHL_TrgeguaQjrWszdcM8aTlORHFViPx5R3pkEaM2uaQDIPyQkNY-ns5aQ0_77DSWxzvulfHWNxRIonT9b28IBORFdd1Cb8nPngy3F8nCQarRxGO2hNM' --compressed --output vgg_face_weights.h5"
   ]
  },
  {
   "cell_type": "code",
   "execution_count": 15,
   "metadata": {},
   "outputs": [],
   "source": [
    "from keras.models import model_from_json\n",
    "model.load_weights('vgg_face_weights.h5')"
   ]
  },
  {
   "cell_type": "code",
   "execution_count": 16,
   "metadata": {},
   "outputs": [],
   "source": [
    "def preprocess_image(image_path):\n",
    "    img = load_img(image_path, target_size=(224, 224))\n",
    "    img = img_to_array(img)\n",
    "    img = np.expand_dims(img, axis=0)\n",
    "    img = preprocess_input(img)\n",
    "    return img"
   ]
  },
  {
   "cell_type": "code",
   "execution_count": 17,
   "metadata": {},
   "outputs": [],
   "source": [
    "def findCosineSimilarity(source_representation, test_representation):\n",
    "    a = np.matmul(np.transpose(source_representation), test_representation)\n",
    "    b = np.sum(np.multiply(source_representation, source_representation))\n",
    "    c = np.sum(np.multiply(test_representation, test_representation))\n",
    "    return 1 - (a / (np.sqrt(b) * np.sqrt(c)))\n",
    "\n",
    "def findEuclideanDistance(source_representation, test_representation):\n",
    "    euclidean_distance = source_representation - test_representation\n",
    "    euclidean_distance = np.sum(np.multiply(euclidean_distance, euclidean_distance))\n",
    "    euclidean_distance = np.sqrt(euclidean_distance)\n",
    "    return euclidean_distance"
   ]
  },
  {
   "cell_type": "code",
   "execution_count": 18,
   "metadata": {},
   "outputs": [],
   "source": [
    "vgg_face_descriptor = Model(inputs=model.layers[0].input, outputs=model.layers[-2].output)"
   ]
  },
  {
   "cell_type": "code",
   "execution_count": 19,
   "metadata": {},
   "outputs": [],
   "source": [
    "epsilon = 0.25\n",
    "epsilon1=50\n",
    "\n",
    "def verifyFace(img1, img2):\n",
    "    img1_representation = vgg_face_descriptor.predict(preprocess_image(img1))[0,:]\n",
    "    img2_representation = vgg_face_descriptor.predict(preprocess_image(img2))[0,:]\n",
    "    \n",
    "    cosine_similarity = findCosineSimilarity(img1_representation, img2_representation)\n",
    "    euclidean_distance = findEuclideanDistance(img1_representation, img2_representation)\n",
    "    \n",
    "    print(\"Cosine similarity: \",cosine_similarity)\n",
    "    print(\"Euclidean distance: \",euclidean_distance)\n",
    "    \n",
    "    if(cosine_similarity < epsilon) and (euclidean_distance < epsilon1):\n",
    "        print(\"verified... they are same person\")\n",
    "    else:\n",
    "        print(\"unverified! they are not same person!\")\n",
    "    \n",
    "    f = plt.figure()\n",
    "    f.add_subplot(1,2, 1)\n",
    "    plt.imshow(image.load_img(img1))\n",
    "    plt.xticks([]); plt.yticks([])\n",
    "    f.add_subplot(1,2, 2)\n",
    "    plt.imshow(image.load_img(img2))\n",
    "    plt.xticks([]); plt.yticks([])\n",
    "    plt.show(block=True)\n",
    "    print(\"-----------------------------------------\")"
   ]
  },
  {
   "cell_type": "markdown",
   "metadata": {},
   "source": [
    "## Test 1 Photo:Cosine similarity"
   ]
  },
  {
   "cell_type": "code",
   "execution_count": 20,
   "metadata": {},
   "outputs": [],
   "source": [
    "\n",
    "def test(Image):\n",
    "    a=1000\n",
    "    j=''\n",
    "    img1_representation = vgg_face_descriptor.predict(preprocess_image(Image))[0,:]\n",
    "    for i in glob.glob(\"BDD/*\"):\n",
    "        img2_representation = vgg_face_descriptor.predict(preprocess_image(i))[0,:]\n",
    "        cosine_similarity = findCosineSimilarity(img1_representation, img2_representation)\n",
    "        if cosine_similarity<a:\n",
    "            a=cosine_similarity\n",
    "            j=i\n",
    "    if Image[5:-8]==j[4:-8]:\n",
    "        return 1\n",
    "    else:\n",
    "        return 0"
   ]
  },
  {
   "cell_type": "code",
   "execution_count": 21,
   "metadata": {},
   "outputs": [
    {
     "ename": "ZeroDivisionError",
     "evalue": "division by zero",
     "output_type": "error",
     "traceback": [
      "\u001b[0;31m---------------------------------------------------------------------------\u001b[0m",
      "\u001b[0;31mZeroDivisionError\u001b[0m                         Traceback (most recent call last)",
      "\u001b[0;32m<ipython-input-21-e91702d967d5>\u001b[0m in \u001b[0;36m<module>\u001b[0;34m\u001b[0m\n\u001b[1;32m      3\u001b[0m     \u001b[0mn\u001b[0m\u001b[0;34m=\u001b[0m\u001b[0mn\u001b[0m\u001b[0;34m+\u001b[0m\u001b[0;36m1\u001b[0m\u001b[0;34m\u001b[0m\u001b[0m\n\u001b[1;32m      4\u001b[0m     \u001b[0mk\u001b[0m\u001b[0;34m=\u001b[0m\u001b[0mk\u001b[0m\u001b[0;34m+\u001b[0m\u001b[0mtest\u001b[0m\u001b[0;34m(\u001b[0m\u001b[0mi\u001b[0m\u001b[0;34m)\u001b[0m\u001b[0;34m\u001b[0m\u001b[0m\n\u001b[0;32m----> 5\u001b[0;31m \u001b[0mk\u001b[0m\u001b[0;34m*\u001b[0m\u001b[0;36m100\u001b[0m\u001b[0;34m/\u001b[0m\u001b[0mn\u001b[0m\u001b[0;34m\u001b[0m\u001b[0m\n\u001b[0m",
      "\u001b[0;31mZeroDivisionError\u001b[0m: division by zero"
     ]
    }
   ],
   "source": [
    "n,k=0,0\n",
    "for i in glob.glob(\"Test/*\"):\n",
    "    n=n+1\n",
    "    k=k+test(i)\n",
    "k*100/n"
   ]
  },
  {
   "cell_type": "markdown",
   "metadata": {},
   "source": [
    "## Test 1 photo:euclidean distance"
   ]
  },
  {
   "cell_type": "code",
   "execution_count": null,
   "metadata": {},
   "outputs": [],
   "source": [
    "def test1(Image):\n",
    "    a=1000\n",
    "    j=''\n",
    "    img1_representation = vgg_face_descriptor.predict(preprocess_image(Image))[0,:]\n",
    "    for i in glob.glob(\"BDD/*\"):\n",
    "        img2_representation = vgg_face_descriptor.predict(preprocess_image(i))[0,:]\n",
    "        euclidean_distance = findEuclideanDistance(img1_representation, img2_representation)\n",
    "        if euclidean_distance<a:\n",
    "            a=euclidean_distance\n",
    "            j=i\n",
    "    if Image[5:-8]==j[4:-8]:\n",
    "        return 1\n",
    "    else:\n",
    "        return 0"
   ]
  },
  {
   "cell_type": "code",
   "execution_count": null,
   "metadata": {},
   "outputs": [],
   "source": [
    "n,k=0,0\n",
    "for i in glob.glob(\"Test/*\"):\n",
    "    n=n+1\n",
    "    k=k+test1(i)\n",
    "k*100/n"
   ]
  },
  {
   "cell_type": "markdown",
   "metadata": {},
   "source": [
    "## Test 2 Photos:Cosine similarity"
   ]
  },
  {
   "cell_type": "code",
   "execution_count": null,
   "metadata": {},
   "outputs": [],
   "source": [
    "def test(Image):\n",
    "    a=1000\n",
    "    j=''\n",
    "    img1_representation = vgg_face_descriptor.predict(preprocess_image(Image))[0,:]\n",
    "    for i in glob.glob(\"BDD/*\"):\n",
    "        img2_representation = vgg_face_descriptor.predict(preprocess_image(i))[0,:]\n",
    "        cosine_similarity = findCosineSimilarity(img1_representation, img2_representation)\n",
    "        if cosine_similarity<a:\n",
    "            a=cosine_similarity\n",
    "            j=i\n",
    "    if Image[5:-8]==j[4:-8]:\n",
    "        return 1\n",
    "    else:\n",
    "        return 0"
   ]
  },
  {
   "cell_type": "code",
   "execution_count": null,
   "metadata": {},
   "outputs": [],
   "source": [
    "n,k=0,0\n",
    "for i in glob.glob(\"Test/*\"):\n",
    "    n=n+1\n",
    "    k=k+test(i)\n",
    "k*100/n"
   ]
  },
  {
   "cell_type": "markdown",
   "metadata": {},
   "source": [
    "## Change Contrast"
   ]
  },
  {
   "cell_type": "code",
   "execution_count": null,
   "metadata": {},
   "outputs": [],
   "source": [
    "from PIL import Image\n",
    "\n",
    "\n",
    "def change_contrast(img, level):\n",
    "\n",
    "    img = Image.open(\"Test/Aaron_Peirsol_0002.jpg\")\n",
    "    img.load()\n",
    "\n",
    "    factor = (259 * (level+255)) / (255 * (259-level))\n",
    "    for x in range(img.size[0]):\n",
    "        for y in range(img.size[1]):\n",
    "            color = img.getpixel((x, y))\n",
    "            new_color = tuple(int(factor * (c-128) + 128) for c in color)\n",
    "            img.putpixel((x, y), new_color)\n",
    "\n",
    "    return img"
   ]
  },
  {
   "cell_type": "code",
   "execution_count": null,
   "metadata": {},
   "outputs": [],
   "source": [
    "#for file in  glob.glob(\"Test/*\"):\n",
    " #   result=change_contrast(file, 100)\n",
    "  #  result.save('Contrast/Contrast_'+file[5:])"
   ]
  },
  {
   "cell_type": "code",
   "execution_count": null,
   "metadata": {},
   "outputs": [],
   "source": [
    "def testC(Image):\n",
    "    a=1000\n",
    "    j=''\n",
    "    img1_representation = vgg_face_descriptor.predict(preprocess_image(Image))[0,:]\n",
    "    for i in glob.glob(\"BDD/*\"):\n",
    "        img2_representation = vgg_face_descriptor.predict(preprocess_image(i))[0,:]\n",
    "        cosine_similarity = findCosineSimilarity(img1_representation, img2_representation)\n",
    "        if cosine_similarity<a:\n",
    "            a=cosine_similarity\n",
    "            j=i\n",
    "    if Image[18:-8]==j[4:-8]:\n",
    "        return 1\n",
    "    else:\n",
    "        return 0"
   ]
  },
  {
   "cell_type": "code",
   "execution_count": null,
   "metadata": {},
   "outputs": [],
   "source": [
    "n,k=0,0\n",
    "for i in glob.glob(\"Contrast/*\"):\n",
    "    n=n+1\n",
    "    k=k+testC(i)\n",
    "k*100/n"
   ]
  },
  {
   "cell_type": "markdown",
   "metadata": {},
   "source": [
    "## Rotation"
   ]
  },
  {
   "cell_type": "code",
   "execution_count": null,
   "metadata": {},
   "outputs": [],
   "source": [
    "from PIL import Image\n",
    "for file in  glob.glob(\"Test/*\"):\n",
    "    im = Image.open(file)\n",
    "    im1=im.rotate(45)\n",
    "    im1.save(\"Rotation/Rot_\"+file[5:])"
   ]
  },
  {
   "cell_type": "code",
   "execution_count": null,
   "metadata": {},
   "outputs": [],
   "source": [
    "def testR(Image):\n",
    "    a=1000\n",
    "    j=''\n",
    "    img1_representation = vgg_face_descriptor.predict(preprocess_image(Image))[0,:]\n",
    "    for i in glob.glob(\"BDD/*\"):\n",
    "        img2_representation = vgg_face_descriptor.predict(preprocess_image(i))[0,:]\n",
    "        cosine_similarity = findCosineSimilarity(img1_representation, img2_representation)\n",
    "        if cosine_similarity<a:\n",
    "            a=cosine_similarity\n",
    "            j=i\n",
    "    if Image[13:-8]==j[4:-8]:\n",
    "        return 1\n",
    "    else:\n",
    "        return 0"
   ]
  },
  {
   "cell_type": "code",
   "execution_count": null,
   "metadata": {},
   "outputs": [],
   "source": [
    "n,k=0,0\n",
    "for i in glob.glob(\"Rotation/*\"):\n",
    "    n=n+1\n",
    "    k=k+testR(i)\n",
    "k*100/n"
   ]
  },
  {
   "cell_type": "code",
   "execution_count": null,
   "metadata": {},
   "outputs": [],
   "source": []
  }
 ],
 "metadata": {
  "kernelspec": {
   "display_name": "Python 3",
   "language": "python",
   "name": "python3"
  },
  "language_info": {
   "codemirror_mode": {
    "name": "ipython",
    "version": 3
   },
   "file_extension": ".py",
   "mimetype": "text/x-python",
   "name": "python",
   "nbconvert_exporter": "python",
   "pygments_lexer": "ipython3",
   "version": "3.6.0"
  }
 },
 "nbformat": 4,
 "nbformat_minor": 2
}
